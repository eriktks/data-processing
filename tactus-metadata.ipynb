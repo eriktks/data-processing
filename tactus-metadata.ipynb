{
 "cells": [
  {
   "cell_type": "markdown",
   "metadata": {},
   "source": [
    "# Tactus metadata\n",
    "\n",
    "Extract therapy result assessments from the metadata"
   ]
  },
  {
   "cell_type": "code",
   "execution_count": null,
   "metadata": {},
   "outputs": [],
   "source": [
    "import csv\n",
    "import gzip\n",
    "import numpy as np\n",
    "import os\n",
    "import pandas as pd\n",
    "import re\n",
    "import sys\n",
    "import matplotlib.pyplot as plt\n",
    "import xml.etree.ElementTree as ET\n",
    "\n",
    "sys.path.append(\"/home/erikt/projects/e-mental-health/enron/orange-hackathon/orangehackathon/libs\")\n",
    "import tactusloaderLIB\n",
    "import OWEmailSorterLIB\n",
    "import markduplicatesLIB\n",
    "import removemarkedtextLIB\n",
    "import LIWCLIB\n",
    "\n",
    "%matplotlib inline"
   ]
  },
  {
   "cell_type": "code",
   "execution_count": null,
   "metadata": {},
   "outputs": [],
   "source": [
    "DIRECTORY = \"/home/erikt/projects/e-mental-health/usb/tmp/20190917/\""
   ]
  },
  {
   "cell_type": "markdown",
   "metadata": {},
   "source": [
    "All clients (1986) have filled in an intake form. However there are three different formats of intake form, which we distinguish by the label of question 1 about gender:\n",
    "1. 1-geslacht0: 1045 clients\n",
    "2. 1-geslacht: 897 clients\n",
    "3. 1-geslachtt0: 44 clients"
   ]
  },
  {
   "cell_type": "code",
   "execution_count": null,
   "metadata": {},
   "outputs": [],
   "source": [
    "VARIANTS = [\"1-geslacht0\",\"1-geslacht\",\"1-geslachtt0\"]\n",
    "FILENAMEPREFIX = \"AdB\"\n",
    "\n",
    "def countFiles(directory,prefix):\n",
    "    return(len([fileName for fileName in os.listdir(directory) \\\n",
    "                         if re.search(\"^\"+prefix,fileName)]))\n",
    "\n",
    "nbrOfFiles = [countFiles(DIRECTORY+variant,FILENAMEPREFIX) for variant in VARIANTS]\n",
    "plt.bar(VARIANTS,nbrOfFiles)\n",
    "plt.title(\"Number of clients per type of intake form\")\n",
    "nbrOfFiles"
   ]
  },
  {
   "cell_type": "markdown",
   "metadata": {},
   "source": [
    "Few clients fill in one of the subsequents four questionaires: half-way, end, after three months and after six months. We want to use the first two to measure their progress in the therapy so we check how frequently these forms are present \n",
    "\n",
    "## Get questionnaire info"
   ]
  },
  {
   "cell_type": "code",
   "execution_count": null,
   "metadata": {},
   "outputs": [],
   "source": [
    "import sys\n",
    "sys.path.insert(1, '/home/erikt/project/e-mental-health/data-processing')\n",
    "import tactus2table"
   ]
  },
  {
   "cell_type": "code",
   "execution_count": null,
   "metadata": {},
   "outputs": [],
   "source": [
    "TITLE = \"0-title\"\n",
    "TUSSENMETING = \"Lijst tussenmeting\"\n",
    "NAMETING = \"Lijst nameting\"\n",
    "\n",
    "tussenmeting = []\n",
    "nameting = []\n",
    "questionnairesCountTussenmeting = {variant:0 for variant in VARIANTS}\n",
    "questionnairesCountNameting = {variant:0 for variant in VARIANTS}\n",
    "listVariants = {}\n",
    "for variant in VARIANTS:\n",
    "    for inFileName in os.listdir(DIRECTORY+\"/\"+variant):\n",
    "        if re.search(\"^\"+FILENAMEPREFIX,inFileName):\n",
    "            listVariants[inFileName] = variant\n",
    "            root = tactus2table.readRootFromFile(DIRECTORY+\"/\"+variant+\"/\"+inFileName)\n",
    "            questionnaires = tactus2table.getQuestionnaires(root,inFileName)\n",
    "            for questionnaire in questionnaires:\n",
    "                if questionnaire[TITLE] == TUSSENMETING:\n",
    "                    questionnairesCountTussenmeting[variant] += 1\n",
    "                    tussenmeting.append(inFileName)\n",
    "                if questionnaire[TITLE] == NAMETING:\n",
    "                    questionnairesCountNameting[variant] += 1\n",
    "                    nameting.append(inFileName)"
   ]
  },
  {
   "cell_type": "code",
   "execution_count": null,
   "metadata": {},
   "outputs": [],
   "source": [
    "questionnairesCountTussenmeting,questionnairesCountNameting"
   ]
  },
  {
   "cell_type": "code",
   "execution_count": null,
   "metadata": {},
   "outputs": [],
   "source": [
    "len(tussenmeting) == 519 and len(nameting) == 312"
   ]
  },
  {
   "cell_type": "markdown",
   "metadata": {},
   "source": [
    "## Get start years"
   ]
  },
  {
   "cell_type": "code",
   "execution_count": null,
   "metadata": {},
   "outputs": [],
   "source": [
    "STARTDATE = \"./Treatment/StartDate\"\n",
    "ENDDATE = \"./Treatment/EndDate\"\n",
    "\n",
    "def getStartEndDate(inFileName):\n",
    "    inFile = gzip.open(inFileName,\"rt\",encoding=\"utf-8\")\n",
    "    inFileContent = inFile.read()\n",
    "    inFile.close()\n",
    "    root = ET.fromstring(inFileContent)\n",
    "    startDates = root.findall(STARTDATE)\n",
    "    endDates = root.findall(ENDDATE)\n",
    "    startDate = \"\"\n",
    "    endDate = \"\"\n",
    "    if len(startDates) > 0 and not startDates[0].text is None:\n",
    "        startDate = startDates[0].text.strip()\n",
    "    if len(endDates) > 0 and not endDates[0].text is None:\n",
    "        endDate = endDates[0].text.strip()\n",
    "    return(startDate,endDate)\n",
    "    \n",
    "def getStartEndYears(directory):\n",
    "    startYears = {}\n",
    "    endYears = {}\n",
    "    for inFileName in sorted(os.listdir(directory)):\n",
    "        if re.search(\"^\"+FILENAMEPREFIX,inFileName):\n",
    "            startDate,endDate = getStartEndDate(directory+inFileName)\n",
    "            if startDate == \"\": startYear = 0\n",
    "            else: startYear = int(startDate[0:4])\n",
    "            startYears[inFileName] = startYear\n",
    "            if endDate == \"\": endYear = 0\n",
    "            else: endYear = int(endDate[0:4])\n",
    "            endYears[inFileName] = endYear\n",
    "    return(startYears,endYears)\n",
    "\n",
    "startYears,endYears = getStartEndYears(DIRECTORY)"
   ]
  },
  {
   "cell_type": "code",
   "execution_count": null,
   "metadata": {},
   "outputs": [],
   "source": [
    "years,counts = np.unique(list([startYears[startYear] for startYear in startYears.keys() if startYears[startYear] > 0]),return_counts=True)\n",
    "plt.title(\"start years\")\n",
    "myplot = plt.bar(list(years),list(counts))"
   ]
  },
  {
   "cell_type": "code",
   "execution_count": null,
   "metadata": {},
   "outputs": [],
   "source": [
    "listStarted = {variant:0 for variant in VARIANTS}\n",
    "for fileName in startYears:\n",
    "    if startYears[fileName] > 0:\n",
    "        listStarted[listVariants[fileName]] += 1\n",
    "listEnded = {variant:0 for variant in VARIANTS}\n",
    "for fileName in endYears:\n",
    "    if endYears[fileName] > 0:\n",
    "        listEnded[listVariants[fileName]] += 1\n",
    "\n",
    "listStarted,sum(listStarted.values()) == 923,listEnded,sum(listEnded.values()) == 691"
   ]
  },
  {
   "cell_type": "markdown",
   "metadata": {},
   "source": [
    "## Get client status"
   ]
  },
  {
   "cell_type": "code",
   "execution_count": null,
   "metadata": {},
   "outputs": [],
   "source": [
    "STATUS = \"./Treatment/Status\"\n",
    "STATUSCODES = { 'Dropout':'D','FollowUp':'F','NotStarted':'N;','Part1':'1','Part2':'2','RctControlGroup':'R'}\n",
    "\n",
    "def getStatus(inFileName):\n",
    "    inFile = gzip.open(inFileName,\"rt\",encoding=\"utf-8\")\n",
    "    inFileContent = inFile.read()\n",
    "    inFile.close()\n",
    "    root = ET.fromstring(inFileContent)\n",
    "    status = root.findall(STATUS)\n",
    "    if len(status) == 0 or status[0].text is None: return(\"\")\n",
    "    else: return(status[0].text.strip())\n",
    "\n",
    "def getStatuses(directory):\n",
    "    statuses = {}\n",
    "    for inFileName in sorted(os.listdir(directory)):\n",
    "        if re.search(\"^\"+FILENAMEPREFIX,inFileName):\n",
    "            status = getStatus(directory+inFileName)\n",
    "            statuses[inFileName] = status\n",
    "    return(statuses)\n",
    "\n",
    "statuses = getStatuses(DIRECTORY)"
   ]
  },
  {
   "cell_type": "markdown",
   "metadata": {},
   "source": [
    "## Create bar graph"
   ]
  },
  {
   "cell_type": "code",
   "execution_count": null,
   "metadata": {},
   "outputs": [],
   "source": [
    "barWidth = 0.23\n",
    "index = np.arange(len(VARIANTS))\n",
    "startedValues = list(listStarted.values())\n",
    "tussenmetingValues = list(questionnairesCountTussenmeting.values())\n",
    "nametingValues = list(questionnairesCountNameting.values())\n",
    "\n",
    "fig,ax = plt.subplots(figsize=(12,4))\n",
    "for i in range(0,len(nbrOfFiles)):\n",
    "    ax.text(i-0.2*barWidth,nbrOfFiles[i]+10,str(nbrOfFiles[i]))\n",
    "    ax.text(barWidth+i-0.2*barWidth,startedValues[i]+10,str(startedValues[i]))\n",
    "    ax.text(2*barWidth+i-0.2*barWidth,tussenmetingValues[i]+10,str(tussenmetingValues[i]))\n",
    "    ax.text(3*barWidth+i-0.2*barWidth,nametingValues[i]+10,str(nametingValues[i]))\n",
    "plt.bar(index,nbrOfFiles,barWidth,label=\"intake\")\n",
    "plt.bar(index+barWidth,listStarted.values(),\n",
    "        barWidth,label=\"start date\")\n",
    "plt.bar(index+2*barWidth,questionnairesCountTussenmeting.values(),\n",
    "        barWidth,label=\"tussenmeting\")\n",
    "plt.bar(index+3*barWidth,\n",
    "        questionnairesCountNameting.values(),\n",
    "        barWidth,label=\"nameting\")\n",
    "plt.xticks(index+barWidth,VARIANTS)\n",
    "plt.title(\"Number of responses per type of intake form\")\n",
    "plot = plt.legend(prop={\"size\":12})"
   ]
  },
  {
   "cell_type": "markdown",
   "metadata": {},
   "source": [
    "## Count emails (outputs three lines) \n",
    "\n",
    "Since the response frequencies for clients with intake format \"1-geslacht\" is a lot higher than those of the other two formats, it makes sense to focus on this format. Let's check how many of those 897 clients sent at least one email to the counselor."
   ]
  },
  {
   "cell_type": "code",
   "execution_count": null,
   "metadata": {},
   "outputs": [],
   "source": [
    "CLIENT = \"CLIENT\"\n",
    "FIELDIDFROM = 1\n",
    "FIELDIDTEXT = 5\n",
    "SHORTPROGRAMME = \"Duurt circa zes weken\"\n",
    "SELFHELP1 = \"zelfhulpvariant\"\n",
    "SELFHELP2 = \"zelf aan de slag te gaan\"\n",
    "SELFHELP3 = \"zelfhulpprogramma\"\n",
    "\n",
    "listClientSentEmail = {}\n",
    "listShortProgramme= []\n",
    "listSelfHelp = []\n",
    "listVariants = {}\n",
    "for variant in VARIANTS:\n",
    "    for inFileName in os.listdir(DIRECTORY+\"/\"+variant):\n",
    "        if re.search(\"^\"+FILENAMEPREFIX,inFileName):\n",
    "            listVariants[inFileName] = variant\n",
    "            root = tactus2table.readRootFromFile(DIRECTORY+\"/\"+variant+\"/\"+inFileName)\n",
    "            emails = tactus2table.getEmailData(root,inFileName)\n",
    "            nbrOfClientEmails = 0\n",
    "            shortProgramme = False\n",
    "            selfHelp = False\n",
    "            for email in emails:\n",
    "                if email[FIELDIDFROM] == CLIENT: \n",
    "                    nbrOfClientEmails += 1\n",
    "                if re.search(SHORTPROGRAMME,email[FIELDIDTEXT]):\n",
    "                    shortProgramme = True\n",
    "                if re.search(SELFHELP1,email[FIELDIDTEXT]) or \\\n",
    "                   re.search(SELFHELP2,email[FIELDIDTEXT]) or \\\n",
    "                   re.search(SELFHELP3,email[FIELDIDTEXT]):\n",
    "                    selfHelp = True\n",
    "            if nbrOfClientEmails > 0: \n",
    "                listClientSentEmail[inFileName] = nbrOfClientEmails\n",
    "            if selfHelp and not shortProgramme: listSelfHelp.append(inFileName)\n",
    "            if shortProgramme: listShortProgramme.append(inFileName)\n",
    "    print(variant,len(listClientSentEmail.keys()),len(listShortProgramme),len(listSelfHelp))"
   ]
  },
  {
   "cell_type": "markdown",
   "metadata": {},
   "source": [
    "## File selection inspection\n",
    "\n",
    "We want to know which clients were selected for analysis. Here we store an overview of all aspects of the data files. First we read the file containing the list of 990 clients selected by our student."
   ]
  },
  {
   "cell_type": "code",
   "execution_count": null,
   "metadata": {},
   "outputs": [],
   "source": [
    "STUDENTFILE = \"/home/erikt/projects/e-mental-health/usb/releases/20200302/dropout.csv.gz\"\n",
    "DROPOUT = \"dropout\"\n",
    "CLIENTID = \"clientID\"\n",
    "\n",
    "studentSelection = []\n",
    "dropout = {}\n",
    "inFile = gzip.open(STUDENTFILE,\"rt\",encoding=\"utf-8\")\n",
    "csvreader = csv.DictReader(inFile)\n",
    "for row in csvreader:\n",
    "    row[CLIENTID] = re.sub(\"(-an)?.xml(.gz)?$\",\"\",row[CLIENTID])\n",
    "    if row[DROPOUT] == \"1\" or row[DROPOUT] == \"2\": \n",
    "        studentSelection.append(row[CLIENTID])\n",
    "        dropout[row[CLIENTID]] = row[DROPOUT]\n",
    "inFile.close()\n",
    "\n",
    "(len(studentSelection) == 1012)"
   ]
  },
  {
   "cell_type": "markdown",
   "metadata": {},
   "source": [
    "The student did not receive all intake forms. We check for which clients an intake form was available and for which not."
   ]
  },
  {
   "cell_type": "code",
   "execution_count": null,
   "metadata": {},
   "outputs": [],
   "source": [
    "INTAKEFILE = \"/home/erikt/projects/e-mental-health/usb/releases/20200121/intake.csv.gz\"\n",
    "IDFIELD = \"0-id\"\n",
    "\n",
    "intakeForms = []\n",
    "inFile = gzip.open(INTAKEFILE,\"rt\",encoding=\"utf-8\")\n",
    "csvreader = csv.DictReader(inFile)\n",
    "for row in csvreader: intakeForms.append(row[IDFIELD])\n",
    "inFile.close()\n",
    "\n",
    "(len(intakeForms) == 1940)"
   ]
  },
  {
   "cell_type": "markdown",
   "metadata": {},
   "source": [
    "Check what the relation is between the clients that have filled in the tussenmeting and nameting questioniares in comparison with the dropout labels"
   ]
  },
  {
   "cell_type": "code",
   "execution_count": null,
   "metadata": {},
   "outputs": [],
   "source": [
    "GZEXTENSION = \".gz\"\n",
    "XMLEXTENSION = \".xml\"\n",
    "ANOSTRING = \"-an\" \n",
    "TOTAL = \"total\"\n",
    "UNKNOWN = \"unknown\"\n",
    "DROPOUT = \"dropout\"\n",
    "FINISHER = \"finisher\"\n",
    "\n",
    "def shortenFileName(fileName):\n",
    "    fileName = re.sub(GZEXTENSION,\"\",fileName)\n",
    "    fileName = re.sub(XMLEXTENSION,\"\",fileName)\n",
    "    fileName = re.sub(ANOSTRING,\"\",fileName)\n",
    "    return(fileName)\n",
    "\n",
    "def tk(key):\n",
    "    return({'1':DROPOUT,\"2\":FINISHER,\"U\":UNKNOWN,\"T\":TOTAL}[key])\n",
    "\n",
    "countsAssessed = {FINISHER:0,DROPOUT:0,UNKNOWN:0,TOTAL:0}\n",
    "for fileName in dropout:\n",
    "    countsAssessed[tk(dropout[fileName])] += 1\n",
    "    countsAssessed[TOTAL] += 1\n",
    "countsSentMail = {FINISHER:0,DROPOUT:0,UNKNOWN:0,TOTAL:0}\n",
    "for fileName in listClientSentEmail:\n",
    "    if listClientSentEmail[fileName] > 0:\n",
    "        fileName = shortenFileName(fileName)\n",
    "        if fileName in dropout:\n",
    "            countsSentMail[tk(dropout[fileName])] += 1\n",
    "            countsSentMail[TOTAL] += 1\n",
    "countsStarted = {FINISHER:0,DROPOUT:0,UNKNOWN:0,TOTAL:0}\n",
    "for fileName in startYears:\n",
    "    if startYears[fileName] > 0:\n",
    "        fileName = shortenFileName(fileName)\n",
    "        if fileName in dropout:\n",
    "            countsStarted[tk(dropout[fileName])] += 1\n",
    "            countsStarted[TOTAL] += 1\n",
    "countsTussenmeting = {FINISHER:0,DROPOUT:0,UNKNOWN:0,TOTAL:0}\n",
    "for fileName in tussenmeting:\n",
    "    fileName = shortenFileName(fileName)\n",
    "    if fileName in dropout:\n",
    "        countsTussenmeting[tk(dropout[fileName])] += 1\n",
    "        countsTussenmeting[TOTAL] += 1\n",
    "countsNameting = {FINISHER:0,DROPOUT:0,UNKNOWN:0,TOTAL:0}\n",
    "for fileName in nameting:\n",
    "    fileName = shortenFileName(fileName)\n",
    "    if fileName in dropout:\n",
    "        countsNameting[tk(dropout[fileName])] += 1\n",
    "        countsNameting[TOTAL] += 1"
   ]
  },
  {
   "cell_type": "code",
   "execution_count": null,
   "metadata": {},
   "outputs": [],
   "source": [
    "pd.DataFrame({\"assessed\":countsAssessed,\"sent mail\":countsSentMail,\"started\":countsStarted,\"tussenmeting\":countsTussenmeting,\"nameting\":countsNameting}).T"
   ]
  },
  {
   "cell_type": "markdown",
   "metadata": {},
   "source": [
    "What are the differences between our selection (791 clients) and the one of the student (1012)? Which clients that we selected were not chosen by the student? Which client did the student chose but we did not?"
   ]
  },
  {
   "cell_type": "code",
   "execution_count": null,
   "metadata": {},
   "outputs": [],
   "source": [
    "def shortenFileName(inFileName):\n",
    "    return(re.sub(\"(-an)?.xml(.gz)?$\",\"\",inFileName))\n",
    "\n",
    "def extendFileName(inFileName):\n",
    "    return(re.sub(\"$\",\".xml.gz\",inFileName))\n",
    "\n",
    "countedExtra = 0\n",
    "countedMissed = 0\n",
    "for fileName in startYears:\n",
    "    shortFileName = shortenFileName(fileName)\n",
    "    if startYears[fileName] > 0 and \\\n",
    "       fileName in listClientSentEmail and listClientSentEmail[fileName] > 0: \n",
    "        if not shortFileName in studentSelection: \n",
    "            countedExtra += 1\n",
    "\n",
    "countedMissed = 0\n",
    "for fileName in studentSelection:\n",
    "    longFileName = extendFileName(fileName)\n",
    "    if (not longFileName in startYears or startYears[longFileName] == 0 or \\\n",
    "        not longFileName in listClientSentEmail or listClientSentEmail[longFileName] == 0): \n",
    "        countedMissed += 1\n",
    "        if dropout[fileName] == \"2\": print(\"finisher\",fileName)\n",
    "\n",
    "countedExtra,countedMissed,countedOther"
   ]
  },
  {
   "cell_type": "markdown",
   "metadata": {},
   "source": [
    "We did not select any client that the student did not choose as well. However, the student did select 221 clients that, according to the metadata (field StartDate) never started with the treatment. We inspected a few of them and found that they either followed another treatment programme (short or self help) or did not start with the intensive programme. 216 clients were labeled as dropout and five as finisher. These five were also checked and found to be irrelevant for this study. "
   ]
  },
  {
   "cell_type": "markdown",
   "metadata": {},
   "source": [
    "## Data selection\n",
    "\n",
    "Here we save our list of selected clients, based on the StartDate field in the metadata."
   ]
  },
  {
   "cell_type": "code",
   "execution_count": null,
   "metadata": {},
   "outputs": [],
   "source": [
    "DROPOUT = \"dropout\"\n",
    "FILE = \"file\"\n",
    "UNKNOWN = \"?\"\n",
    "\n",
    "outFile = open(\"out.csv\",\"w\")\n",
    "csvwriter = csv.DictWriter(outFile,[FILE,DROPOUT])\n",
    "csvwriter.writeheader()\n",
    "\n",
    "for fileName in startYears:\n",
    "    shortFileName = shortenFileName(fileName)\n",
    "    if startYears[fileName] > 0 and \\\n",
    "       fileName in listClientSentEmail and listClientSentEmail[fileName] > 0: \n",
    "        csvwriter.writerow({FILE:shortFileName,DROPOUT:dropout[shortFileName]})\n",
    "    else:\n",
    "        csvwriter.writerow({FILE:shortFileName,DROPOUT:UNKNOWN})\n",
    "\n",
    "outFile.close()"
   ]
  },
  {
   "cell_type": "markdown",
   "metadata": {},
   "source": [
    "## Therapy completion assessment by student\n",
    "\n",
    "The student regarded therapies as completed when the patient had received an email with the subject *Afsluiting*. Let's check which clients satisfy this criterion. First read all mails via Orange."
   ]
  },
  {
   "cell_type": "code",
   "execution_count": null,
   "metadata": {},
   "outputs": [],
   "source": [
    "ANODIRECTORY = \"/home/erikt/projects/e-mental-health/usb/releases/20191217/\"\n",
    "\n",
    "def convertFileName(fileName):\n",
    "    return(re.sub(ANOSTRING,\"\",fileName))\n",
    "\n",
    "allMails = {}\n",
    "for patientId in list(range(1,1988)):\n",
    "    fileName = tactusloaderLIB.makeFileName(str(patientId))\n",
    "    try:\n",
    "        mails = tactusloaderLIB.processFile(ANODIRECTORY,fileName+\".gz\")\n",
    "        if len(mails[0]) > 0:\n",
    "            sortedMails = OWEmailSorterLIB.filterEmails(mails[0],filter_asc=True)\n",
    "            markedMails = markduplicatesLIB.processCorpus(sortedMails)\n",
    "            strippedMails = removemarkedtextLIB.processCorpus(markedMails)\n",
    "            allMails[convertFileName(fileName)+GZEXTENSION] = strippedMails\n",
    "    except:\n",
    "        print(\"problem processing file\",fileName)\n",
    "        continue"
   ]
  },
  {
   "cell_type": "code",
   "execution_count": null,
   "metadata": {},
   "outputs": [],
   "source": [
    "len(allMails) == 1982"
   ]
  },
  {
   "cell_type": "code",
   "execution_count": null,
   "metadata": {},
   "outputs": [],
   "source": [
    "def getXmlText(inFileName,query):\n",
    "    inFile = gzip.open(inFileName,\"rt\",encoding=\"utf-8\")\n",
    "    inFileContent = inFile.read()\n",
    "    inFile.close()\n",
    "    root = ET.fromstring(inFileContent)\n",
    "    xmlData = root.findall(query)\n",
    "    return([xmlDataItem.text for xmlDataItem in xmlData])"
   ]
  },
  {
   "cell_type": "code",
   "execution_count": null,
   "metadata": {},
   "outputs": [],
   "source": [
    "MAILSUBJECT = \"./Messages/Message/Subject\"\n",
    "MAILBODY = \"./Messages/Message/Body\"\n",
    "MAILWORDPOS = \"afsluit\"\n",
    "MAILWORDNEG = \"niet actief\"\n",
    "STOP = \"stop\"\n",
    "MINMAILNBR = 16\n",
    "ANOSTRING = \"-an\" \n",
    "SUBJECTID = 2\n",
    "    \n",
    "def getCompletions(directory):\n",
    "    afsluitings = {}\n",
    "    nietactiefs = {}\n",
    "    afsluitingIds = {}\n",
    "    nietactiefIds = {}\n",
    "    for inFileName in sorted(os.listdir(directory)):\n",
    "        if re.search(\"^\"+FILENAMEPREFIX,inFileName) and inFileName in allMails:\n",
    "            afsluiting = False\n",
    "            nietactief = False\n",
    "            for i in range(0,len(allMails[inFileName])):\n",
    "                subject = allMails[inFileName][i].metas[SUBJECTID].lower()\n",
    "                if re.search(MAILWORDPOS,subject):\n",
    "                    afsluiting = True\n",
    "                    afsluitingIds[inFileName] = i+1\n",
    "                if re.search(MAILWORDNEG,subject):\n",
    "                    nietactief = True\n",
    "                    nietactiefIds[inFileName] = i+1\n",
    "            afsluitings[inFileName] = afsluiting\n",
    "            nietactiefs[inFileName] = nietactief\n",
    "    return(afsluitings,nietactiefs,afsluitingIds,nietactiefIds)\n",
    "\n",
    "afsluitings,nietactiefs,afsluitingIds,nietactiefIds = getCompletions(DIRECTORY)\n",
    "len([inFileName for inFileName in afsluitings if afsluitings[inFileName]])"
   ]
  },
  {
   "cell_type": "code",
   "execution_count": null,
   "metadata": {},
   "outputs": [],
   "source": [
    "(values,counts) = np.unique(list(afsluitingIds.values()),return_counts=True)\n",
    "fig,ax = plt.subplots(figsize=(15,4))\n",
    "plt.title(\"mail subject = afsluiting: count per n-th mail\")\n",
    "myplot = plt.bar(list(values),list(counts))\n",
    "\n",
    "(values,counts) = np.unique(list(nietactiefIds.values()),return_counts=True)\n",
    "fig,ax = plt.subplots(figsize=(15,4))\n",
    "plt.title(\"mail subject = niet actief: count per n-th mail\")\n",
    "myplot = plt.bar(list(values),list(counts))"
   ]
  },
  {
   "cell_type": "code",
   "execution_count": null,
   "metadata": {},
   "outputs": [],
   "source": [
    "for fileName in nietactiefIds.keys():\n",
    "    if nietactiefIds[fileName] > 100: print(nietactiefIds[fileName],fileName)"
   ]
  },
  {
   "cell_type": "code",
   "execution_count": null,
   "metadata": {},
   "outputs": [],
   "source": [
    "TREATMENTPHRASE = \"een geschikte kandidaat om te\"\n",
    "TEXTID = 3\n",
    "\n",
    "longTreatment = {}\n",
    "for inFileName in sorted(os.listdir(DIRECTORY)):\n",
    "    if re.search(\"^\"+FILENAMEPREFIX,inFileName):\n",
    "        longTreatment[inFileName] = False\n",
    "        for i in range(0,len(allMails[inFileName])):\n",
    "            mailText = allMails[inFileName][i].metas[TEXTID].lower()\n",
    "            if re.search(TREATMENTPHRASE,mailText): \n",
    "                longTreatment[inFileName] = True\n",
    "                break"
   ]
  },
  {
   "cell_type": "code",
   "execution_count": null,
   "metadata": {},
   "outputs": [],
   "source": [
    "countsLongTreatment = {str(True):0,str(False):0,TOTAL:0}\n",
    "for fileName in dropout:\n",
    "    if dropout[fileName] == \"2\":\n",
    "        countsLongTreatment[str(longTreatment[fileName+\".xml.gz\"])] += 1\n",
    "        countsLongTreatment[TOTAL] += 1\n",
    "countsLongTreatment"
   ]
  },
  {
   "cell_type": "markdown",
   "metadata": {},
   "source": [
    "## Save analysis to file data-processing/out.csv"
   ]
  },
  {
   "cell_type": "code",
   "execution_count": null,
   "metadata": {},
   "outputs": [],
   "source": [
    "def shortenFileName(inFileName):\n",
    "    return(re.sub(\"(-an)?.xml(.gz)?$\",\"\",inFileName))\n",
    "\n",
    "selectionChoices = {}\n",
    "\n",
    "outFile = open(\"out.csv\",\"w\")\n",
    "csvwriter = csv.DictWriter(outFile,[\"file\",\"student\",\"selected\",\"status\",\"started\",\\\n",
    "            \"ended\",\"afsluiting\",\"nietactief\",\"intake\",\"clientMail\",\"shortProgramme\",\\\n",
    "            \"selfHelp\",\"tussenmeting\",\"nameting\",\"dropout\",\"variant\"])\n",
    "csvwriter.writeheader()\n",
    "\n",
    "for inFileName in sorted(os.listdir(DIRECTORY)):\n",
    "    if re.search(\"^\"+FILENAMEPREFIX,inFileName):\n",
    "        shortFileName = shortenFileName(inFileName)\n",
    "        row = {\"file\":shortFileName}\n",
    "        if shortFileName in studentSelection: row[\"student\"] = 1\n",
    "        else: row[\"student\"] = 0\n",
    "        if inFileName in listClientSentEmail and \\\n",
    "           not inFileName in listShortProgramme and \\\n",
    "           not inFileName in listSelfHelp: row[\"selected\"] = 1\n",
    "        else: row[\"selected\"] = 0\n",
    "        if inFileName in statuses and statuses[inFileName] != \"NotStarted\": \n",
    "            row[\"status\"] = statuses[inFileName]\n",
    "        else: row[\"status\"] = statuses[inFileName]\n",
    "        if inFileName in startYears and startYears[inFileName] > 0: row[\"started\"] = 1\n",
    "        else: row[\"started\"] = 0\n",
    "        if inFileName in endYears and endYears[inFileName] > 0: row[\"ended\"] = 1\n",
    "        else: row[\"ended\"] = 0\n",
    "        if inFileName in afsluitings and afsluitings[inFileName]: \n",
    "            row[\"afsluiting\"] = 1\n",
    "        else: row[\"afsluiting\"] = 0\n",
    "        if inFileName in nietactiefs and nietactiefs[inFileName]: \n",
    "            row[\"nietactief\"] = 1\n",
    "        else: row[\"nietactief\"] = 0\n",
    "        if shortFileName in intakeForms: row[\"intake\"] = 1\n",
    "        else: row[\"intake\"] = 0\n",
    "        if inFileName in listClientSentEmail: \n",
    "            row[\"clientMail\"] = listClientSentEmail[inFileName]\n",
    "        else: row[\"clientMail\"] = 0\n",
    "        if inFileName in listShortProgramme: row[\"shortProgramme\"] = 1\n",
    "        else: row[\"shortProgramme\"] = 0\n",
    "        if inFileName in listSelfHelp: row[\"selfHelp\"] = 1\n",
    "        else: row[\"selfHelp\"] = 0\n",
    "        if inFileName in tussenmeting: row[\"tussenmeting\"] = 1\n",
    "        else: row[\"tussenmeting\"] = 0\n",
    "        if inFileName in nameting: row[\"nameting\"] = 1\n",
    "        else: row[\"nameting\"] = 0\n",
    "        if shortFileName in dropout: row[\"dropout\"] = dropout[shortFileName]\n",
    "        else: row[\"dropout\"] = \"?\"\n",
    "        row[\"variant\"] = listVariants[inFileName]\n",
    "        csvwriter.writerow(row)\n",
    "        selectionChoicesKey = \\\n",
    "            str(row[\"afsluiting\"])+str(row[\"started\"])+str(row[\"dropout\"])\n",
    "        if not selectionChoicesKey in selectionChoices: \n",
    "            selectionChoices[selectionChoicesKey] = 0\n",
    "        selectionChoices[selectionChoicesKey] += 1\n",
    "        if selectionChoicesKey == \"111\": print(selectionChoicesKey,inFileName,\\\n",
    "                                               listClientSentEmail[inFileName])\n",
    "        \n",
    "outFile.close()"
   ]
  },
  {
   "cell_type": "code",
   "execution_count": null,
   "metadata": {},
   "outputs": [],
   "source": [
    "for key in sorted(selectionChoices): print(key,selectionChoices[key])\n",
    "print(\"number of starting clients not sending an email:\",\\\n",
    "      len([fileName for fileName in startYears if startYears[fileName] > 0 and \\\n",
    "                                                  not fileName in listClientSentEmail]))\n",
    "print(\"suspected short programme clients that started therapy:\",\\\n",
    "      len([fileName for fileName in listShortProgramme if startYears[fileName] > 0]))\n",
    "print(\"suspected self assessment clients that started therapy:\",\\\n",
    "      len([fileName for fileName in listSelfHelp if startYears[fileName] > 0]))"
   ]
  },
  {
   "cell_type": "markdown",
   "metadata": {},
   "source": [
    "The student selected 769 (421+348) clients that started the treament, that is clients for which a date was present in the metadata field *StartDate*. The student also selected 219 (214+5) clients that, according to the metadata, did not start the treatment. In order to assess the quality of the metadata, we inspected the client in this group that had sent the most emails (83) and indeed found that these mails were not treatment-related. It seems safe to use the value of the metadata field *StartDate* as an indication of the client starting the intensive treatment.\n",
    "\n",
    "The student ignored 995 (841+154) clients. 841 had not started treatment but 154 had started the treatment. However, of those 154, no emails were available for 132 clients. For 21 of the other clients, the student did not have access to an intake form. The reason of exclusion for the remaining single client (926) is unclear.\n",
    "\n",
    "**SUMMARY:** Since 923 (348+421+154) clients started the treatment (in the intensive programme) and 132 of those did not respond to the counselor, we have **791 (923-132) treatments available for analysis**.\n",
    "\n",
    "Of those 791 treatments, the student assessed 348 as completed and 421 early dropout. This means that **22 treatments are unassesed with respect to dropout**. The student has not assessed these 22 treatments. Except for one case (926) this choice was made because at the time there were no intake forms available for these clients."
   ]
  },
  {
   "cell_type": "markdown",
   "metadata": {},
   "source": [
    "## Therapy success assessment"
   ]
  },
  {
   "cell_type": "code",
   "execution_count": null,
   "metadata": {},
   "outputs": [],
   "source": [
    "COMPLETED = \"C\"\n",
    "UNKNOWN = \"U\"\n",
    "\n",
    "combinations = {}\n",
    "\n",
    "for fileName in afsluitings:\n",
    "    shortName = shortenFileName(fileName)\n",
    "    if not shortName in dropout: dropout[shortName] = UNKNOWN\n",
    "    if afsluitings[fileName]: key = COMPLETED+dropout[shortName]\n",
    "    else: key = \"-\"+dropout[shortName]\n",
    "    if fileName in startYears and startYears[fileName] > 0: key = \"1\"+key\n",
    "    else: key = \"0\"+key\n",
    "    if fileName in nameting: key = \"1\"+key\n",
    "    else: key = \"0\"+key\n",
    "    if not key in combinations: combinations[key] = 0\n",
    "    combinations[key] += 1\n",
    "    if re.search(\"C1$\",key):\n",
    "        print(key,fileName)\n",
    "    \n",
    "combinations"
   ]
  },
  {
   "cell_type": "markdown",
   "metadata": {},
   "source": [
    "In the keys, *1* and *2* at the final position indicate the dropout status of clients as assessed by the student, where *1* stands for dropout and *2* stands for therapy completion. *U* indicates that the student has not assessed the client. *C* at the penultimate position in a key means that we assessed the client as a completer. A hyphen (*-*) represents all other cases (dropout and unassessed).\n",
    "\n",
    "Category *1C2* should contain 348 entries but lacked six (count: 342). One (982) was caused by the keyword *afsluiting* being misspelled, which we corrected in the data file. The other five did not include an email with the subject *afsluiting* (category: 1-2; clients: 15, 203, 474, 685 and 1932). However, two clients had filled in the nameting form (474 and 685).\n",
    "\n",
    "~~We defined the completion criterion as: **the client has started (StartDate is filled) and has recieved an email with the string *afsluit* in the Subject or has filled in a nameting questionnaire**.~~"
   ]
  },
  {
   "cell_type": "code",
   "execution_count": null,
   "metadata": {},
   "outputs": [],
   "source": [
    "initialClientCount = sum(nbrOfFiles)\n",
    "print(\"Initial number of clients:\",initialClientCount)\n",
    "\n",
    "nbrOfStarters = len([fileName for fileName in startYears if startYears[fileName] > 0])\n",
    "print(\"Number of starting clients:\",nbrOfStarters,\\\n",
    "      \"(excluded:\",initialClientCount-nbrOfStarters,\")\")\n",
    "\n",
    "nbrOfMailers = 0\n",
    "for fileName in startYears:\n",
    "    if startYears[fileName] > 0:\n",
    "        if fileName in listClientSentEmail:\n",
    "            nbrOfMailers += 1\n",
    "print(\"Number of mailing clients :\",nbrOfMailers,\\\n",
    "      \"(excluded:\",nbrOfStarters-nbrOfMailers,\")\")\n",
    "\n",
    "nbrOfCompleters = 0\n",
    "nbrOfDropouts = 0\n",
    "for fileName in startYears:\n",
    "    if startYears[fileName] > 0:\n",
    "        if fileName in listClientSentEmail:\n",
    "            if afsluitings[fileName]: nbrOfCompleters += 1\n",
    "            else: nbrOfDropouts += 1\n",
    "print(\"      Number of completers:\",nbrOfCompleters)\n",
    "print(\"        Number of dropouts:\",nbrOfDropouts)"
   ]
  },
  {
   "cell_type": "markdown",
   "metadata": {},
   "source": [
    "## Manual labeling\n",
    "\n",
    "AdB0445 1 \n",
    "\n",
    "AdB0461 1\n",
    "\n",
    "AdB0509 1\n",
    "\n",
    "AdB0709 1\n",
    "\n",
    "AdB0853 2\n",
    "\n",
    "AdB0873 1\n",
    "\n",
    "AdB0926 2\n",
    "\n",
    "AdB0942 2\n",
    "\n",
    "AdB0950 -\n",
    "\n",
    "AdB1102 2\n",
    "\n",
    "AdB1343 2\n",
    "\n",
    "AdB1398 1\n",
    "\n",
    "AdB1419 1\n",
    "\n",
    "AdB1491 1 (final mails missing?)\n",
    "\n",
    "AdB1532 2\n",
    "\n",
    "AdB1536 1\n",
    "\n",
    "AdB1612 2\n",
    "\n",
    "AdB1620 1\n",
    "\n",
    "AdB1645 2\n",
    "\n",
    "AdB1744 1\n",
    "\n",
    "AdB1771 2\n",
    "\n",
    "AdB1849 1\n",
    "\n",
    "AdB1871 1"
   ]
  },
  {
   "cell_type": "markdown",
   "metadata": {},
   "source": [
    "## Not used for now..."
   ]
  },
  {
   "cell_type": "markdown",
   "metadata": {},
   "source": [
    "Of the intermediate questionnaire, question 8 (8-intefft) is most interesting: *DO you consider this Internet therapy to be an effective method for changing alcohol-related habits?* (*Vind je internetbehandeling een effectieve methode om je drinkgewoonte te veranderen?*) A positive answer signals a positive effect of the therapy on the client. Let's see how they responded to this question."
   ]
  },
  {
   "cell_type": "code",
   "execution_count": null,
   "metadata": {},
   "outputs": [],
   "source": [
    "VARIANT = \"1-geslacht\"\n",
    "QUESTION8 = \"8-intefft\"\n",
    "QUESTION9 = \"9-inteff1\"\n",
    "\n",
    "responses = {}\n",
    "for inFileName in os.listdir(DIRECTORY+\"/\"+VARIANT):\n",
    "    if re.search(\"^\"+FILENAMEPREFIX,inFileName):\n",
    "        root = tactus2table.readRootFromFile(DIRECTORY+\"/\"+VARIANT+\"/\"+inFileName)\n",
    "        questionnaires = tactus2table.getQuestionnaires(root,inFileName)\n",
    "        for questionnaire in questionnaires:\n",
    "            if questionnaire[TITLE] == TUSSENMETING:\n",
    "                if QUESTION8 in questionnaire:\n",
    "                    response = questionnaire[QUESTION8]\n",
    "                    if response in responses: responses[response] += 1\n",
    "                    else: responses[response] = 1\n",
    "                elif QUESTION9 in questionnaire:\n",
    "                    response = questionnaire[QUESTION9]\n",
    "                    if response in responses: responses[response] += 1\n",
    "                    else: responses[response] = 1\n",
    "                else: print(\"no inteff question in\",inFileName)\n",
    "\n",
    "responses"
   ]
  },
  {
   "cell_type": "markdown",
   "metadata": {},
   "source": [
    "We expected a overwhelming positive response (because the people for which the therapy did not work could have stopped). The answers are indeed mostly positive but interestingly150 of the 470 clients responded with *I don't know* (*ik weet het niet*). Four clients filled in a different form where the question had number 9 instead of 8.  "
   ]
  },
  {
   "cell_type": "code",
   "execution_count": null,
   "metadata": {},
   "outputs": [],
   "source": [
    "inFileName = \"AdB0010.xml.gz\"\n",
    "root = tactus2table.readRootFromFile(DIRECTORY+\"/\"+VARIANT+\"/\"+inFileName)\n",
    "questionnaires = tactus2table.getQuestionnaires(root,inFileName)\n",
    "questionnaires"
   ]
  },
  {
   "cell_type": "code",
   "execution_count": null,
   "metadata": {},
   "outputs": [],
   "source": [
    "data = pd.read_csv(DIRECTORY+\"/\"+FILE)"
   ]
  },
  {
   "cell_type": "code",
   "execution_count": null,
   "metadata": {},
   "outputs": [],
   "source": [
    "FIELDNAME = \"14-drugs\"\n",
    "ages = []\n",
    "for rowId in range(0,len(data)):\n",
    "    ages.append(re.sub(\" *leeftijd in jaren *\",\"\",data[FIELDNAME][rowId]))\n",
    "agesPD = pd.Series(ages)"
   ]
  },
  {
   "cell_type": "code",
   "execution_count": null,
   "metadata": {},
   "outputs": [],
   "source": [
    "data[\"30-week2\"].value_counts().sort_index().plot(kind=\"bar\",figsize=(14,6))\n"
   ]
  },
  {
   "cell_type": "code",
   "execution_count": null,
   "metadata": {},
   "outputs": [],
   "source": [
    "# end form: 18-weekn 19-weekn"
   ]
  },
  {
   "cell_type": "code",
   "execution_count": null,
   "metadata": {},
   "outputs": [],
   "source": [
    "[x for x in data]\n"
   ]
  },
  {
   "cell_type": "code",
   "execution_count": null,
   "metadata": {},
   "outputs": [],
   "source": [
    "data[\"30-week2\"]"
   ]
  },
  {
   "cell_type": "code",
   "execution_count": null,
   "metadata": {},
   "outputs": [],
   "source": []
  }
 ],
 "metadata": {
  "kernelspec": {
   "display_name": "Python 3",
   "language": "python",
   "name": "python3"
  },
  "language_info": {
   "codemirror_mode": {
    "name": "ipython",
    "version": 3
   },
   "file_extension": ".py",
   "mimetype": "text/x-python",
   "name": "python",
   "nbconvert_exporter": "python",
   "pygments_lexer": "ipython3",
   "version": "3.6.7"
  }
 },
 "nbformat": 4,
 "nbformat_minor": 4
}
