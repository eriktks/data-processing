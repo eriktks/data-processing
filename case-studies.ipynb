{
 "cells": [
  {
   "cell_type": "markdown",
   "metadata": {},
   "source": [
    "# Case study"
   ]
  },
  {
   "cell_type": "code",
   "execution_count": 1,
   "metadata": {},
   "outputs": [],
   "source": [
    "from colorama import Fore\n",
    "import numpy as np\n",
    "import pandas as pd\n",
    "import re\n",
    "import sys\n",
    "from collections import Counter\n",
    "import numpy as np\n",
    "from sklearn.manifold import TSNE\n",
    "import matplotlib.pyplot as plt"
   ]
  },
  {
   "cell_type": "code",
   "execution_count": 2,
   "metadata": {},
   "outputs": [],
   "source": [
    "DATADIR = \"../usb/releases/20201018/\"\n",
    "DROPOUTDATADIR = \"../usb/releases/20200302/\"\n",
    "CLIENTSFILE = \"clients.csv.gz\"\n",
    "DROPOUTFILE = \"dropout.csv.gz\"\n",
    "ANSWERID = \"answerId_normalized\"\n",
    "ANSWERIDORIGINAL = \"answerId_original\"\n",
    "ANSWERTEXT = \"answerText\"\n",
    "ANSWERTITLE = \"answerTitle\"\n",
    "CLIENT = \"client\"\n",
    "CLIENTID = \"clientID\"\n",
    "DROPOUT = \"dropout\"\n",
    "QUESTIONNUMBER = \"questionNumber\"\n",
    "REMOVED = \"REMOVED\"\n",
    "COMPLETERCODE = \"2\"\n",
    "DROPOUTCODE = \"1\""
   ]
  },
  {
   "cell_type": "code",
   "execution_count": 3,
   "metadata": {},
   "outputs": [],
   "source": [
    "def read_dropout_ids():\n",
    "    dropout = pd.read_csv(DROPOUTDATADIR+DROPOUTFILE)\n",
    "    dropout_ids = list(dropout[dropout[DROPOUT]==DROPOUTCODE][CLIENTID])\n",
    "    completer_ids = list(dropout[dropout[DROPOUT]==COMPLETERCODE][CLIENTID])\n",
    "    return(dropout_ids,completer_ids)"
   ]
  },
  {
   "cell_type": "code",
   "execution_count": 4,
   "metadata": {},
   "outputs": [
    {
     "data": {
      "text/plain": [
       "(653, 359)"
      ]
     },
     "execution_count": 4,
     "metadata": {},
     "output_type": "execute_result"
    }
   ],
   "source": [
    "dropout_ids,completer_ids = read_dropout_ids()\n",
    "len(dropout_ids),len(completer_ids)"
   ]
  },
  {
   "cell_type": "markdown",
   "metadata": {},
   "source": [
    "## Task 1: compare metadata of dropouts and completers"
   ]
  },
  {
   "cell_type": "code",
   "execution_count": 5,
   "metadata": {},
   "outputs": [],
   "source": [
    "GENDER = \"geslacht\"\n",
    "AGE = \"leeftijd\"\n",
    "EDUCATION = \"opleidng\"\n",
    "DAY1 = \"dag1\"\n",
    "MAN = \"Man\"\n",
    "WOMAN = \"Vrouw\"\n",
    "ANSWER = \"answer\"\n",
    "COUNT = \"count\"\n",
    "YESNO = \"YESNO\"\n",
    "YESNOIDS = [\"dagritme\",\"dsm2\",\"dsm3\",\"dsm4\",\"dsm5\",\"dsm6\",\"dsm7\",\"dsm8\",\"dsm9\",\"dsm11\",\n",
    "            \"medicijn\",\"drugs\",\"eetdrang\",\"insult\",\"delirium\",\"psych\",\"tabak\",\"canna\",\n",
    "            \"coca\",\"speed\",\"xtc\",\"ghb\",\"opiat\",\"sleep\",\"gok\",\"behversl\",\"halluci\",\n",
    "            \"suicide\",\"wanen\",\"benniet\"]\n",
    "COLUMNS = [{ANSWER:answer, COUNT:1} for answer in [GENDER,EDUCATION,DAY1,AGE]+YESNOIDS]\n",
    "CONVERSION = { GENDER: {WOMAN:0,MAN:1},\n",
    "               EDUCATION: {\"Basisschool\":0,\"LBO/MAVO\":1,\"MBO\":2,\"HAVO/VWO\":3,\"HBO\":4,\"WO\":5,\"REMOVED\":np.nan},\n",
    "               YESNO: {\"Nee\":0,\"Ja\":1}}"
   ]
  },
  {
   "cell_type": "code",
   "execution_count": 6,
   "metadata": {},
   "outputs": [],
   "source": [
    "def make_binary_answers_numeric(df, column_names, binary_translation_table_in):\n",
    "    data_table = []\n",
    "    processed_clients = []\n",
    "    binary_translation_table = dict(binary_translation_table_in)\n",
    "    column_name_ids = {column_names[i]:i for i in range(0,len(column_names))}\n",
    "    for i in range(0,len(df)):\n",
    "        row = df.iloc[i]\n",
    "        answer_id = row[ANSWERID]\n",
    "        answer_text = cleanup_answer_text(row[ANSWERTEXT])\n",
    "        client_id = row[CLIENT]\n",
    "        if not client_id in processed_clients:\n",
    "            data_table.append(len(column_names)*[np.nan])\n",
    "            processed_clients.append(client_id)\n",
    "        elif client_id != processed_clients[-1]:\n",
    "            print(Fore.RED, f\"make_binary_answers_numeric: cannot happen: 1:{client_id} 2:{processed_clients[-1]}\")\n",
    "        if answer_id in column_names and not pd.isna(answer_text) and answer_text != \"removed\":\n",
    "            if not answer_id in binary_translation_table:\n",
    "                if answer_text == \"nee\" or answer_text == \"ja\":\n",
    "                    binary_translation_table[answer_id] = { \"nee\": 0, \"ja\": 1 }\n",
    "                elif answer_text == \"vrouw\" or answer_text == \"man\":\n",
    "                    binary_translation_table[answer_id] = { \"vrouw\": 0, \"man\": 1 }\n",
    "                else:\n",
    "                    binary_translation_table[answer_id] = { answer_text: 0 }\n",
    "            elif answer_text not in binary_translation_table[answer_id]:\n",
    "                if len(binary_translation_table[answer_id]) == 1:\n",
    "                    binary_translation_table[answer_id][answer_text] = 1\n",
    "                else:\n",
    "                    print(Fore.RED, f\"make_binary_answers_numeric: cannot happen: 1:{answer_id} 2:{answer_text} 3:{binary_translation_table[answer_id]}\")\n",
    "            data_table[-1][column_name_ids[answer_id]] = binary_translation_table[answer_id][answer_text]\n",
    "    return(data_table, binary_translation_table)"
   ]
  },
  {
   "cell_type": "code",
   "execution_count": 7,
   "metadata": {},
   "outputs": [],
   "source": [
    "def read_data(dropout_ids,completer_ids):\n",
    "    client_data = pd.read_csv(DATADIR+CLIENTSFILE)\n",
    "    dropout_data = client_data[client_data[CLIENT].isin(dropout_ids)]\n",
    "    completer_data = client_data[client_data[CLIENT].isin(completer_ids)]\n",
    "    return(dropout_data,completer_data)"
   ]
  },
  {
   "cell_type": "code",
   "execution_count": 8,
   "metadata": {},
   "outputs": [],
   "source": [
    "dropout_data,completer_data = read_data(dropout_ids,completer_ids)\n",
    "all_data = pd.concat([dropout_data,completer_data])"
   ]
  },
  {
   "cell_type": "code",
   "execution_count": 9,
   "metadata": {},
   "outputs": [
    {
     "name": "stdout",
     "output_type": "stream",
     "text": [
      "missing dropout client id: AdB1263\n",
      "missing dropout client id: AdB1469\n"
     ]
    }
   ],
   "source": [
    "def verify_data_completeness(dropout_data,completer_data,dropout_ids,completer_ids):\n",
    "    dropout_data_ids = list(dropout_data[CLIENT])\n",
    "    for client_id in dropout_ids:\n",
    "        if client_id not in dropout_data_ids:\n",
    "            print(f\"missing dropout client id: {client_id}\")\n",
    "\n",
    "    completer_data_ids = list(completer_data[CLIENT])\n",
    "    for client_id in completer_ids:\n",
    "        if client_id not in completer_data_ids:\n",
    "            print(f\"missing completer client id: {client_id}\")\n",
    "            \n",
    "verify_data_completeness(dropout_data,completer_data,dropout_ids,completer_ids)"
   ]
  },
  {
   "cell_type": "code",
   "execution_count": 10,
   "metadata": {},
   "outputs": [],
   "source": [
    "def get_answer_values(dropout_data, completer_data, column_name):\n",
    "    nbr_of_dropouts = len(dropout_data.groupby(\"client\").groups)\n",
    "    nbr_of_completers = len(completer_data.groupby(\"client\").groups)\n",
    "    dropout_values = pd.DataFrame(dropout_data[dropout_data[\"answerId_normalized\"]==column_name],columns=[\"answerText\"]).groupby(\"answerText\").size()\n",
    "    completer_values = pd.DataFrame(completer_data[completer_data[\"answerId_normalized\"]==column_name],columns=[\"answerText\"]).groupby(\"answerText\").size()\n",
    "    nbr_of_missing = nbr_of_dropouts+nbr_of_completers\n",
    "    answer_values = {}\n",
    "    for key in dropout_values.index:\n",
    "        if not key in dropout_values:\n",
    "            dropout_values[key] = 0\n",
    "        if not key in completer_values:\n",
    "            completer_values[key] = 0\n",
    "        answer_values[key] = dropout_values[key]+completer_values[key]\n",
    "        nbr_of_missing -= dropout_values[key]+completer_values[key]\n",
    "    answer_values[\"MISSING\"] = nbr_of_missing\n",
    "    return(answer_values)"
   ]
  },
  {
   "cell_type": "markdown",
   "metadata": {},
   "source": [
    "### 1.1 Experiment with binary answer classes"
   ]
  },
  {
   "cell_type": "code",
   "execution_count": 11,
   "metadata": {},
   "outputs": [],
   "source": [
    "GESLACHT = \"geslacht\"\n",
    "GESLACHT0 = \"geslacht0\"\n",
    "GESLACHTT0 = \"geslachtt0\"\n",
    "NONQUESTIONS = \"^(goTo[0-9]|ltgeslacht1|doel)$\"\n",
    "EXCEPTIONANSWERID = \"mdoel\"\n",
    "\n",
    "def cleanup_answer_text(text):\n",
    "    if pd.isna(text): return(text)\n",
    "    text = str(text).lower()\n",
    "    text = re.sub(\" *leeftijd in jaren$\", \"\",text)\n",
    "    text = re.sub(\"^niet gedronken$\", \"0\",text)\n",
    "    text = re.sub(\"11 t/m 15\", \"13\",text)\n",
    "    text = re.sub(\"16 t/m 20\", \"18\",text)\n",
    "    text = re.sub(\"21 t/m 25\", \"23\",text)\n",
    "    text = re.sub(\"26 t/m 30\", \"28\",text)\n",
    "    text = re.sub(\"^ja, ik heb deze internetbehandeling al eens gevolgd.$\",\"ja\",text)\n",
    "    text = re.sub(\"\\s+\",\" \",text)\n",
    "    text = text.strip()\n",
    "    return(text)"
   ]
  },
  {
   "cell_type": "code",
   "execution_count": 12,
   "metadata": {},
   "outputs": [],
   "source": [
    "def find_binary_answer_keys(dropout_data, completer_data):\n",
    "    answer_texts = {}\n",
    "    data = pd.concat([dropout_data,completer_data])\n",
    "    for i in range(0,len(data)):\n",
    "        client_id = data.iloc[i][CLIENT]\n",
    "        answer_text = cleanup_answer_text(data.iloc[i][ANSWERTEXT])\n",
    "        answer_title = cleanup_answer_text(data.iloc[i][ANSWERTITLE])\n",
    "        if pd.isna(answer_title): answer_title = \"\"\n",
    "        answer_id = str(data.iloc[i][ANSWERID])\n",
    "        answer_key = answer_id\n",
    "        if not answer_key in answer_texts.keys(): answer_texts[answer_key] = []\n",
    "        if not answer_text in answer_texts[answer_key] and not pd.isna(answer_text) and not answer_text == \"removed\":\n",
    "            answer_texts[answer_key].append(answer_text)\n",
    "    binary_answer_keys = []\n",
    "    for answer_key in answer_texts:\n",
    "        if len(answer_texts[answer_key]) == 2:\n",
    "            binary_answer_keys.append(answer_key)\n",
    "    return(binary_answer_keys)"
   ]
  },
  {
   "cell_type": "code",
   "execution_count": 13,
   "metadata": {},
   "outputs": [],
   "source": [
    "def get_useful_binary_answer_keys(dropout_data, completer_data, binary_answer_keys, show_values=False):\n",
    "    useful_binary_answer_keys = []\n",
    "    for key in binary_answer_keys:\n",
    "        answer_id = key\n",
    "        answer_values = get_answer_values(dropout_data, completer_data, answer_id)\n",
    "        if show_values:\n",
    "            print(\"#####\", answer_id)\n",
    "            for answer_value in answer_values:\n",
    "                print(answer_values[answer_value], answer_value)\n",
    "        nbr_of_values = sum(list(answer_values.values()))\n",
    "        nbr_of_missing_values = sum([answer_values[answer_value] for answer_value in answer_values if answer_value == \"MISSING\" or answer_value == \"REMOVED\"])\n",
    "        if nbr_of_missing_values < 0.5*nbr_of_values:\n",
    "            useful_binary_answer_keys.append(answer_id)\n",
    "    return(useful_binary_answer_keys)"
   ]
  },
  {
   "cell_type": "code",
   "execution_count": 128,
   "metadata": {},
   "outputs": [],
   "source": [
    "from sklearn.feature_selection import f_classif, f_regression\n",
    "import numpy as np\n",
    "from sklearn.impute import SimpleImputer\n",
    "\n",
    "def remove_nan(X,y):\n",
    "    X_no_nan = []\n",
    "    y_no_nan = []\n",
    "    for i in range(0,len(X)):\n",
    "        if not np.isnan(X[i][0]):\n",
    "            X_no_nan.append([X[i][0]])\n",
    "            y_no_nan.append(y[i])\n",
    "    return(X_no_nan, y_no_nan)\n",
    "\n",
    "def run_anova_classify(dropout_table,completer_table):\n",
    "    X = dropout_table+completer_table\n",
    "    y = len(dropout_table)*[DROPOUTCODE]+len(completer_table)*[COMPLETERCODE]\n",
    "    p_values = []\n",
    "    for i in range(0,len(X[0])):\n",
    "        try:\n",
    "            X_no_nan, y_no_nan = remove_nan([[X[j][i]] for j in range(0,len(X))],y)\n",
    "            F, p_value = f_classif(X_no_nan, y_no_nan)\n",
    "            p_values.extend(p_value)\n",
    "        except:\n",
    "            p_values.append(np.nan)\n",
    "    return(p_values)\n",
    "\n",
    "def column_average(table,column_id):\n",
    "    try:\n",
    "        return(np.average([row[column_id] for row in table if not np.isnan(row[column_id])]))\n",
    "    except:\n",
    "        return(np.nan)\n",
    "\n",
    "def count_non_nan(table, column_id):\n",
    "    return(len([row[column_id] for row in table if not np.isnan(row[column_id])]))\n",
    "\n",
    "def sort_p_values(p_values,column_names,dropout_table,completer_table):\n",
    "    return(pd.DataFrame({column_names[i]:(p_values[i],\n",
    "                                          column_average(completer_table, i),\n",
    "                                          column_average(dropout_table, i),\n",
    "                                          count_non_nan(completer_table, i),\n",
    "                                          count_non_nan(dropout_table, i)\n",
    "                                         ) for i in sorted(range(0,len(p_values)), key=lambda i:p_values[i])},\n",
    "                        index=[\"p_value\", \"average com\", \"average dro\", \"non nan com\", \"non nan dro\"]).T)"
   ]
  },
  {
   "cell_type": "code",
   "execution_count": 15,
   "metadata": {},
   "outputs": [],
   "source": [
    "binary_answer_keys = find_binary_answer_keys(dropout_data, completer_data)"
   ]
  },
  {
   "cell_type": "code",
   "execution_count": 16,
   "metadata": {},
   "outputs": [],
   "source": [
    "useful_binary_answer_keys = get_useful_binary_answer_keys(dropout_data, completer_data, binary_answer_keys, show_values=False)"
   ]
  },
  {
   "cell_type": "code",
   "execution_count": 17,
   "metadata": {},
   "outputs": [],
   "source": [
    "dropout_table_binary, binary_translation_table_dropout = make_binary_answers_numeric(dropout_data, binary_answer_keys, {})\n",
    "completer_table_binary, binary_translation_table_completer = make_binary_answers_numeric(completer_data, binary_answer_keys, binary_translation_table_dropout)"
   ]
  },
  {
   "cell_type": "code",
   "execution_count": 18,
   "metadata": {},
   "outputs": [
    {
     "data": {
      "text/plain": [
       "{'geslacht': {'vrouw': 0, 'man': 1},\n",
       " 'dagritme': {'nee': 0, 'ja': 1},\n",
       " 'dsm1': {'nee': 0, 'ja': 1},\n",
       " 'dsm2': {'nee': 0, 'ja': 1},\n",
       " 'dsm3': {'nee': 0, 'ja': 1},\n",
       " 'dsm4': {'nee': 0, 'ja': 1},\n",
       " 'dsm5': {'nee': 0, 'ja': 1},\n",
       " 'dsm6': {'nee': 0, 'ja': 1},\n",
       " 'dsm7': {'nee': 0, 'ja': 1},\n",
       " 'dsm8': {'nee': 0, 'ja': 1},\n",
       " 'dsm9': {'nee': 0, 'ja': 1},\n",
       " 'dsm10': {'nee': 0, 'ja': 1},\n",
       " 'dsm11': {'nee': 0, 'ja': 1},\n",
       " 'medicijn': {'nee': 0, 'ja': 1},\n",
       " 'drugs': {'nee': 0, 'ja': 1},\n",
       " 'eetdrang': {'nee': 0, 'ja': 1},\n",
       " 'behdrink': {'nee': 0, 'ja': 1},\n",
       " 'insult': {'nee': 0, 'ja': 1},\n",
       " 'delirium': {'nee': 0, 'ja': 1},\n",
       " 'psych': {'nee': 0, 'ja': 1},\n",
       " 'rovroe': {'nee': 0, 'ja': 1},\n",
       " 'national': {'nederlands': 0, 'anders, namelijk belg': 1},\n",
       " 'cultherk': {'nederlands': 0, 'overige europees': 1},\n",
       " 'kind': {'nee': 0, 'ja': 1},\n",
       " 'tabak': {'nee': 0, 'ja': 1},\n",
       " 'canna': {'nee': 0, 'ja': 1},\n",
       " 'coca': {'nee': 0, 'ja': 1},\n",
       " 'speed': {'nee': 0, 'ja': 1},\n",
       " 'xtc': {'nee': 0, 'ja': 1},\n",
       " 'ghb': {'nee': 0, 'ja': 1},\n",
       " 'opiat': {'nee': 0, 'ja': 1},\n",
       " 'slaap': {'nee': 0, 'ja': 1},\n",
       " 'gok': {'nee': 0, 'ja': 1},\n",
       " 'tabak30': {'nee': 0, 'ja': 1},\n",
       " 'tabak0h-ignore': {'1': 0, '0': 1},\n",
       " 'canna0h-ignore': {'0': 0, '1': 1},\n",
       " 'coca0h-ignore': {'0': 0, '1': 1},\n",
       " 'speed0h-ignore': {'0': 0, '1': 1},\n",
       " 'xtc0h-ignore': {'0': 0, '1': 1},\n",
       " 'ghb0h-ignore': {'0': 0, '1': 1},\n",
       " 'opiat0h-ignore': {'0': 0, '1': 1},\n",
       " 'drugs0h-ignore': {'0': 0, '1': 1},\n",
       " 'slaap0h-ignore': {'0': 0, '1': 1},\n",
       " 'gok0h-ignore': {'0': 0, '1': 1},\n",
       " 'medi': {'nee': 0, 'ja': 1},\n",
       " 'behversl': {'nee': 0, 'ja': 1},\n",
       " 'suicide1': {'nee': 0, 'ja': 1},\n",
       " 'halluci': {'nee': 0, 'ja': 1},\n",
       " 'wanen': {'nee': 0, 'ja': 1},\n",
       " 'eq1': {'ik heb geen problemen met lopen': 0,\n",
       "  'ik heb enige problemen met lopen': 1},\n",
       " 'eq2': {'ik heb geen problemen om mijzelf te wassen of aan te kleden': 0,\n",
       "  'ik heb enige problemen om mijzelf te wassen of aan te kleden': 1},\n",
       " 'benniet': {'nee': 0, 'ja': 1},\n",
       " 'zwanger': {'nee': 0, 'ja': 1},\n",
       " 'coca30': {'nee': 0, 'ja': 1},\n",
       " 'speed30': {'nee': 0, 'ja': 1},\n",
       " 'xtc30': {'nee': 0, 'ja': 1},\n",
       " 'slaap30': {'nee': 0, 'ja': 1},\n",
       " 'suicide2': {'nee': 0, 'ja': 1},\n",
       " 'eq3': {'ik heb enige problemen met mijn dagelijkse activiteiten': 0,\n",
       "  'ik ben niet in staat om mijn dagelijkse activiteiten uit te voeren': 1},\n",
       " 'canna30': {'nee': 0, 'ja': 1},\n",
       " 'opiat30': {'nee': 0, 'ja': 1},\n",
       " 'medivr4': {'cholesterol': 0, 'bloeddruk': 1},\n",
       " 'gok30': {'nee': 0, 'ja': 1},\n",
       " 'ghqa1': {'slechter dan gewoonlijk': 0, 'net zo als gewoonlijk': 1},\n",
       " 'ghqa2': {'helemaal niet': 0, 'wat meer dan gewoonlijk': 1},\n",
       " 'ghqa3': {'wat meer dan gewoonlijk': 0, 'niet meer dan gewoonlijk': 1},\n",
       " 'ghqb4': {'wat meer dan gewoonlijk': 0, 'niet meer dan gewoonlijk': 1},\n",
       " 'ghqc1': {'ongeveer net zo goed als gewoonlijk': 0,\n",
       "  'minder goed dan gewoonlijk': 1},\n",
       " 'ghqc2': {'net zo lang als gewoonlijk': 0, 'langer dan gewoonlijk': 1},\n",
       " 'ghqc3': {'ongeveer net zo goed als gewoonlijk': 0,\n",
       "  'minder goed dan gewoonlijk': 1},\n",
       " 'ghqc6': {'net zo goed in staat als gewoonlijk': 0,\n",
       "  'wat minder dan gewoonlijk': 1},\n",
       " 'ghqc7': {'evenveel als gewoonlijk': 0, 'wat minder dan gewoonlijk': 1},\n",
       " 'ghqd4': {'zeer zeker niet': 0, 'ik dacht van niet': 1},\n",
       " 'ghqd5': {'helemaal niet': 0, 'niet meer dan gewoonlijk': 1},\n",
       " 'ghqd7': {'zeer zeker niet': 0, 'ik dacht van niet': 1},\n",
       " 'mhfddoel': {'minder drinken': 0, 'leren omgaan met drinken': 1},\n",
       " 'mprblm': {'helemaal mee eens': 0, 'mee eens': 1},\n",
       " 'mvinwrk': {'helemaal niet mee eens': 0, 'niet mee eens': 1},\n",
       " 'dh1': {'helemaal mee eens': 0, 'mee eens': 1},\n",
       " 'tr4': {'helemaal niet mee eens': 0, 'niet mee eens': 1},\n",
       " 'tr5': {'helemaal mee eens': 0, 'mee eens': 1},\n",
       " 'tr6': {'helemaal niet mee eens': 0, 'niet mee eens': 1},\n",
       " 'tr8': {'helemaal mee eens': 0, 'mee eens': 1},\n",
       " 'mailadres': {'client@gmail.com': 0, 'client@hotmail.com': 1},\n",
       " 'medivr3': {'depressie': 0, 'bloeddruk': 1},\n",
       " 'behtoel': {'januari 2010 tot juli 2011': 0, 'via alcohol de baas online': 1},\n",
       " 'drugsln1': {'2 jaar': 0, 'ongeveer 2 jaar': 1}}"
      ]
     },
     "execution_count": 18,
     "metadata": {},
     "output_type": "execute_result"
    }
   ],
   "source": [
    "binary_translation_table_completer"
   ]
  },
  {
   "cell_type": "code",
   "execution_count": 19,
   "metadata": {},
   "outputs": [
    {
     "name": "stderr",
     "output_type": "stream",
     "text": [
      "/home/erikt/anaconda3/lib/python3.6/site-packages/sklearn/feature_selection/_univariate_selection.py:111: RuntimeWarning: invalid value encountered in true_divide\n",
      "  msw = sswn / float(dfwn)\n",
      "/home/erikt/anaconda3/lib/python3.6/site-packages/sklearn/feature_selection/_univariate_selection.py:110: RuntimeWarning: invalid value encountered in true_divide\n",
      "  msb = ssbn / float(dfbn)\n",
      "/home/erikt/anaconda3/lib/python3.6/site-packages/sklearn/feature_selection/_univariate_selection.py:111: RuntimeWarning: invalid value encountered in true_divide\n",
      "  msw = sswn / float(dfwn)\n",
      "/home/erikt/anaconda3/lib/python3.6/site-packages/sklearn/feature_selection/_univariate_selection.py:110: RuntimeWarning: invalid value encountered in true_divide\n",
      "  msb = ssbn / float(dfbn)\n"
     ]
    },
    {
     "name": "stdout",
     "output_type": "stream",
     "text": [
      "computed 87 p values\n"
     ]
    },
    {
     "name": "stderr",
     "output_type": "stream",
     "text": [
      "/home/erikt/anaconda3/lib/python3.6/site-packages/numpy/lib/function_base.py:393: RuntimeWarning: Mean of empty slice.\n",
      "  avg = a.mean(axis)\n",
      "/home/erikt/anaconda3/lib/python3.6/site-packages/numpy/core/_methods.py:161: RuntimeWarning: invalid value encountered in double_scalars\n",
      "  ret = ret.dtype.type(ret / rcount)\n"
     ]
    },
    {
     "data": {
      "text/html": [
       "<div>\n",
       "<style scoped>\n",
       "    .dataframe tbody tr th:only-of-type {\n",
       "        vertical-align: middle;\n",
       "    }\n",
       "\n",
       "    .dataframe tbody tr th {\n",
       "        vertical-align: top;\n",
       "    }\n",
       "\n",
       "    .dataframe thead th {\n",
       "        text-align: right;\n",
       "    }\n",
       "</style>\n",
       "<table border=\"1\" class=\"dataframe\">\n",
       "  <thead>\n",
       "    <tr style=\"text-align: right;\">\n",
       "      <th></th>\n",
       "      <th>p_value</th>\n",
       "      <th>average com</th>\n",
       "      <th>average dro</th>\n",
       "      <th>non nan com</th>\n",
       "      <th>non nan dro</th>\n",
       "    </tr>\n",
       "  </thead>\n",
       "  <tbody>\n",
       "    <tr>\n",
       "      <th>dagritme</th>\n",
       "      <td>0.000545</td>\n",
       "      <td>0.789174</td>\n",
       "      <td>0.686520</td>\n",
       "      <td>351.0</td>\n",
       "      <td>638.0</td>\n",
       "    </tr>\n",
       "    <tr>\n",
       "      <th>dsm7</th>\n",
       "      <td>0.000960</td>\n",
       "      <td>0.230769</td>\n",
       "      <td>0.330721</td>\n",
       "      <td>351.0</td>\n",
       "      <td>638.0</td>\n",
       "    </tr>\n",
       "    <tr>\n",
       "      <th>eetdrang</th>\n",
       "      <td>0.001659</td>\n",
       "      <td>0.113960</td>\n",
       "      <td>0.191223</td>\n",
       "      <td>351.0</td>\n",
       "      <td>638.0</td>\n",
       "    </tr>\n",
       "    <tr>\n",
       "      <th>geslacht</th>\n",
       "      <td>0.004706</td>\n",
       "      <td>0.389972</td>\n",
       "      <td>0.482335</td>\n",
       "      <td>359.0</td>\n",
       "      <td>651.0</td>\n",
       "    </tr>\n",
       "    <tr>\n",
       "      <th>dsm11</th>\n",
       "      <td>0.009584</td>\n",
       "      <td>0.555556</td>\n",
       "      <td>0.639498</td>\n",
       "      <td>351.0</td>\n",
       "      <td>638.0</td>\n",
       "    </tr>\n",
       "    <tr>\n",
       "      <th>drugs</th>\n",
       "      <td>0.014921</td>\n",
       "      <td>0.060172</td>\n",
       "      <td>0.106583</td>\n",
       "      <td>349.0</td>\n",
       "      <td>638.0</td>\n",
       "    </tr>\n",
       "    <tr>\n",
       "      <th>dsm8</th>\n",
       "      <td>0.036439</td>\n",
       "      <td>0.370370</td>\n",
       "      <td>0.438871</td>\n",
       "      <td>351.0</td>\n",
       "      <td>638.0</td>\n",
       "    </tr>\n",
       "    <tr>\n",
       "      <th>dsm2</th>\n",
       "      <td>0.036913</td>\n",
       "      <td>0.948718</td>\n",
       "      <td>0.912226</td>\n",
       "      <td>351.0</td>\n",
       "      <td>638.0</td>\n",
       "    </tr>\n",
       "    <tr>\n",
       "      <th>tabak30</th>\n",
       "      <td>0.044947</td>\n",
       "      <td>0.500000</td>\n",
       "      <td>0.691892</td>\n",
       "      <td>28.0</td>\n",
       "      <td>185.0</td>\n",
       "    </tr>\n",
       "    <tr>\n",
       "      <th>insult</th>\n",
       "      <td>0.051116</td>\n",
       "      <td>0.011396</td>\n",
       "      <td>0.031348</td>\n",
       "      <td>351.0</td>\n",
       "      <td>638.0</td>\n",
       "    </tr>\n",
       "  </tbody>\n",
       "</table>\n",
       "</div>"
      ],
      "text/plain": [
       "           p_value  average com  average dro  non nan com  non nan dro\n",
       "dagritme  0.000545     0.789174     0.686520        351.0        638.0\n",
       "dsm7      0.000960     0.230769     0.330721        351.0        638.0\n",
       "eetdrang  0.001659     0.113960     0.191223        351.0        638.0\n",
       "geslacht  0.004706     0.389972     0.482335        359.0        651.0\n",
       "dsm11     0.009584     0.555556     0.639498        351.0        638.0\n",
       "drugs     0.014921     0.060172     0.106583        349.0        638.0\n",
       "dsm8      0.036439     0.370370     0.438871        351.0        638.0\n",
       "dsm2      0.036913     0.948718     0.912226        351.0        638.0\n",
       "tabak30   0.044947     0.500000     0.691892         28.0        185.0\n",
       "insult    0.051116     0.011396     0.031348        351.0        638.0"
      ]
     },
     "execution_count": 19,
     "metadata": {},
     "output_type": "execute_result"
    }
   ],
   "source": [
    "p_values = run_anova_classify(dropout_table_binary, completer_table_binary)\n",
    "sorted_p_values = sort_p_values(p_values, binary_answer_keys, dropout_table_binary, completer_table_binary)\n",
    "print(f\"computed {len(sorted_p_values)} p values\")\n",
    "sorted_p_values.iloc[:10,]"
   ]
  },
  {
   "cell_type": "markdown",
   "metadata": {},
   "source": [
    "### 1.2 Experiment with numeric answer classes"
   ]
  },
  {
   "cell_type": "code",
   "execution_count": 20,
   "metadata": {},
   "outputs": [],
   "source": [
    "def find_numeric_answer_keys(dropout_data, completer_data):\n",
    "    numeric_data_seen = {}\n",
    "    other_data_seen = {}\n",
    "    data = pd.concat([dropout_data, completer_data])\n",
    "    for i in range(0,len(data)):\n",
    "        client_id = data.iloc[i][CLIENT]\n",
    "        answer_text = cleanup_answer_text(data.iloc[i][ANSWERTEXT])\n",
    "        answer_title = cleanup_answer_text(data.iloc[i][ANSWERTITLE])\n",
    "        if pd.isna(answer_title): answer_title = \"\"\n",
    "        answer_id = str(data.iloc[i][ANSWERID])\n",
    "        answer_key = answer_id # +\"#\"+answer_title\n",
    "        if not answer_key in numeric_data_seen.keys(): \n",
    "            numeric_data_seen[answer_key] = False\n",
    "            other_data_seen[answer_key] = False\n",
    "        if not pd.isna(answer_text) and not answer_text == \"removed\":\n",
    "            if type(answer_text) == np.float64 or re.search(\"^[0-9]+$\",answer_text): \n",
    "                numeric_data_seen[answer_key] = True\n",
    "            else:\n",
    "                other_data_seen[answer_key] = True\n",
    "    return([answer_key for answer_key in numeric_data_seen if numeric_data_seen[answer_key] and not other_data_seen[answer_key]])"
   ]
  },
  {
   "cell_type": "code",
   "execution_count": 21,
   "metadata": {},
   "outputs": [],
   "source": [
    "def make_numeric_answers_numeric(df, column_names):\n",
    "    data_table = []\n",
    "    processed_clients = []\n",
    "    column_name_ids = {column_names[i]:i for i in range(0,len(column_names))}\n",
    "    for i in range(0,len(df)):\n",
    "        row = df.iloc[i]\n",
    "        answer_id = row[ANSWERID]\n",
    "        answer_text = cleanup_answer_text(row[ANSWERTEXT])\n",
    "        client_id = row[CLIENT]\n",
    "        if not client_id in processed_clients:\n",
    "            data_table.append(len(column_names)*[np.nan])\n",
    "            processed_clients.append(client_id)\n",
    "        elif client_id != processed_clients[-1]:\n",
    "            print(Fore.RED, f\"make_binary_answers_numeric: cannot happen: 1:{client_id} 2:{processed_clients[-1]}\")\n",
    "        if answer_id in column_names and not pd.isna(answer_text) and answer_text != \"removed\":\n",
    "            data_table[-1][column_name_ids[answer_id]] = float(answer_text)\n",
    "    return(data_table)"
   ]
  },
  {
   "cell_type": "code",
   "execution_count": 22,
   "metadata": {},
   "outputs": [],
   "source": [
    "def run_anova_regression(dropout_table, completer_table):\n",
    "    X = dropout_table+completer_table\n",
    "    y = len(dropout_table)*[int(DROPOUTCODE)]+len(completer_table)*[int(COMPLETERCODE)]\n",
    "    p_values = []\n",
    "    for i in range(0, len(X[0])):\n",
    "        try:\n",
    "            X_no_nan, y_no_nan = remove_nan([[X[j][i]] for j in range(0, len(X))],y)\n",
    "            F, p_value = f_regression(X_no_nan, y_no_nan)\n",
    "            p_values.extend(p_value)\n",
    "        except:\n",
    "            p_values.append(np.nan)\n",
    "    return(p_values)"
   ]
  },
  {
   "cell_type": "code",
   "execution_count": 23,
   "metadata": {},
   "outputs": [],
   "source": [
    "numeric_answer_keys = find_numeric_answer_keys(dropout_data, completer_data)"
   ]
  },
  {
   "cell_type": "code",
   "execution_count": 24,
   "metadata": {},
   "outputs": [],
   "source": [
    "completer_table_numeric = make_numeric_answers_numeric(completer_data, numeric_answer_keys)\n",
    "dropout_table_numeric = make_numeric_answers_numeric(dropout_data, numeric_answer_keys)"
   ]
  },
  {
   "cell_type": "code",
   "execution_count": 25,
   "metadata": {},
   "outputs": [
    {
     "data": {
      "text/plain": [
       "(38, 38, 38)"
      ]
     },
     "execution_count": 25,
     "metadata": {},
     "output_type": "execute_result"
    }
   ],
   "source": [
    "len(numeric_answer_keys), len(dropout_table_numeric[0]), len(completer_table_numeric[0])"
   ]
  },
  {
   "cell_type": "code",
   "execution_count": 26,
   "metadata": {},
   "outputs": [
    {
     "data": {
      "text/html": [
       "<div>\n",
       "<style scoped>\n",
       "    .dataframe tbody tr th:only-of-type {\n",
       "        vertical-align: middle;\n",
       "    }\n",
       "\n",
       "    .dataframe tbody tr th {\n",
       "        vertical-align: top;\n",
       "    }\n",
       "\n",
       "    .dataframe thead th {\n",
       "        text-align: right;\n",
       "    }\n",
       "</style>\n",
       "<table border=\"1\" class=\"dataframe\">\n",
       "  <thead>\n",
       "    <tr style=\"text-align: right;\">\n",
       "      <th></th>\n",
       "      <th>p_value</th>\n",
       "      <th>average com</th>\n",
       "      <th>average dro</th>\n",
       "      <th>non nan com</th>\n",
       "      <th>non nan dro</th>\n",
       "    </tr>\n",
       "  </thead>\n",
       "  <tbody>\n",
       "    <tr>\n",
       "      <th>leeftijd</th>\n",
       "      <td>0.000001</td>\n",
       "      <td>47.648562</td>\n",
       "      <td>44.219634</td>\n",
       "      <td>313.0</td>\n",
       "      <td>601.0</td>\n",
       "    </tr>\n",
       "    <tr>\n",
       "      <th>dag1</th>\n",
       "      <td>0.000244</td>\n",
       "      <td>5.338279</td>\n",
       "      <td>6.639553</td>\n",
       "      <td>337.0</td>\n",
       "      <td>627.0</td>\n",
       "    </tr>\n",
       "    <tr>\n",
       "      <th>week</th>\n",
       "      <td>0.000254</td>\n",
       "      <td>32.327645</td>\n",
       "      <td>37.764599</td>\n",
       "      <td>293.0</td>\n",
       "      <td>548.0</td>\n",
       "    </tr>\n",
       "    <tr>\n",
       "      <th>dag7</th>\n",
       "      <td>0.000439</td>\n",
       "      <td>4.625000</td>\n",
       "      <td>5.745628</td>\n",
       "      <td>344.0</td>\n",
       "      <td>629.0</td>\n",
       "    </tr>\n",
       "    <tr>\n",
       "      <th>dag3</th>\n",
       "      <td>0.000711</td>\n",
       "      <td>5.023188</td>\n",
       "      <td>6.133545</td>\n",
       "      <td>345.0</td>\n",
       "      <td>629.0</td>\n",
       "    </tr>\n",
       "    <tr>\n",
       "      <th>dag2</th>\n",
       "      <td>0.000879</td>\n",
       "      <td>4.873529</td>\n",
       "      <td>5.979233</td>\n",
       "      <td>340.0</td>\n",
       "      <td>626.0</td>\n",
       "    </tr>\n",
       "    <tr>\n",
       "      <th>dsmmisbr</th>\n",
       "      <td>0.002640</td>\n",
       "      <td>1.298851</td>\n",
       "      <td>1.515674</td>\n",
       "      <td>348.0</td>\n",
       "      <td>638.0</td>\n",
       "    </tr>\n",
       "    <tr>\n",
       "      <th>dag5</th>\n",
       "      <td>0.006116</td>\n",
       "      <td>5.112760</td>\n",
       "      <td>6.046178</td>\n",
       "      <td>337.0</td>\n",
       "      <td>628.0</td>\n",
       "    </tr>\n",
       "    <tr>\n",
       "      <th>dag4</th>\n",
       "      <td>0.007038</td>\n",
       "      <td>5.140762</td>\n",
       "      <td>6.030255</td>\n",
       "      <td>341.0</td>\n",
       "      <td>628.0</td>\n",
       "    </tr>\n",
       "    <tr>\n",
       "      <th>xtc0h-ignore</th>\n",
       "      <td>0.071998</td>\n",
       "      <td>0.062500</td>\n",
       "      <td>0.192488</td>\n",
       "      <td>32.0</td>\n",
       "      <td>213.0</td>\n",
       "    </tr>\n",
       "    <tr>\n",
       "      <th>basaal</th>\n",
       "      <td>0.098934</td>\n",
       "      <td>3.312500</td>\n",
       "      <td>4.576923</td>\n",
       "      <td>32.0</td>\n",
       "      <td>208.0</td>\n",
       "    </tr>\n",
       "    <tr>\n",
       "      <th>rcqact</th>\n",
       "      <td>0.131442</td>\n",
       "      <td>14.029703</td>\n",
       "      <td>13.637019</td>\n",
       "      <td>303.0</td>\n",
       "      <td>416.0</td>\n",
       "    </tr>\n",
       "    <tr>\n",
       "      <th>coca0h-ignore</th>\n",
       "      <td>0.131775</td>\n",
       "      <td>0.093750</td>\n",
       "      <td>0.206573</td>\n",
       "      <td>32.0</td>\n",
       "      <td>213.0</td>\n",
       "    </tr>\n",
       "    <tr>\n",
       "      <th>dag6</th>\n",
       "      <td>0.141807</td>\n",
       "      <td>5.214076</td>\n",
       "      <td>5.695860</td>\n",
       "      <td>341.0</td>\n",
       "      <td>628.0</td>\n",
       "    </tr>\n",
       "    <tr>\n",
       "      <th>drugs0h-ignore</th>\n",
       "      <td>0.152197</td>\n",
       "      <td>0.000000</td>\n",
       "      <td>0.061033</td>\n",
       "      <td>32.0</td>\n",
       "      <td>213.0</td>\n",
       "    </tr>\n",
       "    <tr>\n",
       "      <th>dsmafhank</th>\n",
       "      <td>0.170786</td>\n",
       "      <td>4.386819</td>\n",
       "      <td>4.532283</td>\n",
       "      <td>349.0</td>\n",
       "      <td>635.0</td>\n",
       "    </tr>\n",
       "    <tr>\n",
       "      <th>gok0h-ignore</th>\n",
       "      <td>0.194172</td>\n",
       "      <td>0.031250</td>\n",
       "      <td>0.103286</td>\n",
       "      <td>32.0</td>\n",
       "      <td>213.0</td>\n",
       "    </tr>\n",
       "    <tr>\n",
       "      <th>rcqpre</th>\n",
       "      <td>0.195386</td>\n",
       "      <td>12.274194</td>\n",
       "      <td>12.417266</td>\n",
       "      <td>310.0</td>\n",
       "      <td>417.0</td>\n",
       "    </tr>\n",
       "    <tr>\n",
       "      <th>dsmfysio</th>\n",
       "      <td>0.196356</td>\n",
       "      <td>0.874608</td>\n",
       "      <td>0.945882</td>\n",
       "      <td>319.0</td>\n",
       "      <td>425.0</td>\n",
       "    </tr>\n",
       "    <tr>\n",
       "      <th>kindthuis</th>\n",
       "      <td>0.196639</td>\n",
       "      <td>0.857143</td>\n",
       "      <td>1.141593</td>\n",
       "      <td>21.0</td>\n",
       "      <td>113.0</td>\n",
       "    </tr>\n",
       "    <tr>\n",
       "      <th>ghb0h-ignore</th>\n",
       "      <td>0.212358</td>\n",
       "      <td>0.000000</td>\n",
       "      <td>0.046948</td>\n",
       "      <td>32.0</td>\n",
       "      <td>213.0</td>\n",
       "    </tr>\n",
       "    <tr>\n",
       "      <th>eqth</th>\n",
       "      <td>0.218886</td>\n",
       "      <td>62.500000</td>\n",
       "      <td>58.179612</td>\n",
       "      <td>40.0</td>\n",
       "      <td>206.0</td>\n",
       "    </tr>\n",
       "    <tr>\n",
       "      <th>canna0h-ignore</th>\n",
       "      <td>0.259339</td>\n",
       "      <td>0.312500</td>\n",
       "      <td>0.417840</td>\n",
       "      <td>32.0</td>\n",
       "      <td>213.0</td>\n",
       "    </tr>\n",
       "    <tr>\n",
       "      <th>angst</th>\n",
       "      <td>0.283762</td>\n",
       "      <td>7.250000</td>\n",
       "      <td>8.359447</td>\n",
       "      <td>48.0</td>\n",
       "      <td>217.0</td>\n",
       "    </tr>\n",
       "    <tr>\n",
       "      <th>speed0h-ignore</th>\n",
       "      <td>0.364114</td>\n",
       "      <td>0.093750</td>\n",
       "      <td>0.154930</td>\n",
       "      <td>32.0</td>\n",
       "      <td>213.0</td>\n",
       "    </tr>\n",
       "    <tr>\n",
       "      <th>opiat0h-ignore</th>\n",
       "      <td>0.383269</td>\n",
       "      <td>0.000000</td>\n",
       "      <td>0.023474</td>\n",
       "      <td>32.0</td>\n",
       "      <td>213.0</td>\n",
       "    </tr>\n",
       "    <tr>\n",
       "      <th>slaap0h-ignore</th>\n",
       "      <td>0.462088</td>\n",
       "      <td>0.250000</td>\n",
       "      <td>0.314554</td>\n",
       "      <td>32.0</td>\n",
       "      <td>213.0</td>\n",
       "    </tr>\n",
       "    <tr>\n",
       "      <th>beperking</th>\n",
       "      <td>0.476347</td>\n",
       "      <td>13.281250</td>\n",
       "      <td>14.487437</td>\n",
       "      <td>32.0</td>\n",
       "      <td>199.0</td>\n",
       "    </tr>\n",
       "    <tr>\n",
       "      <th>maphss</th>\n",
       "      <td>0.521752</td>\n",
       "      <td>12.687500</td>\n",
       "      <td>11.938389</td>\n",
       "      <td>32.0</td>\n",
       "      <td>211.0</td>\n",
       "    </tr>\n",
       "    <tr>\n",
       "      <th>dasstot</th>\n",
       "      <td>0.543096</td>\n",
       "      <td>35.250000</td>\n",
       "      <td>37.384615</td>\n",
       "      <td>40.0</td>\n",
       "      <td>208.0</td>\n",
       "    </tr>\n",
       "    <tr>\n",
       "      <th>klachttot</th>\n",
       "      <td>0.571656</td>\n",
       "      <td>20.300000</td>\n",
       "      <td>19.352941</td>\n",
       "      <td>30.0</td>\n",
       "      <td>204.0</td>\n",
       "    </tr>\n",
       "    <tr>\n",
       "      <th>deprest</th>\n",
       "      <td>0.579217</td>\n",
       "      <td>2.600000</td>\n",
       "      <td>2.222222</td>\n",
       "      <td>10.0</td>\n",
       "      <td>9.0</td>\n",
       "    </tr>\n",
       "    <tr>\n",
       "      <th>dsmernst</th>\n",
       "      <td>0.666339</td>\n",
       "      <td>5.406250</td>\n",
       "      <td>5.572770</td>\n",
       "      <td>32.0</td>\n",
       "      <td>213.0</td>\n",
       "    </tr>\n",
       "    <tr>\n",
       "      <th>verlangtot</th>\n",
       "      <td>0.744475</td>\n",
       "      <td>7.833333</td>\n",
       "      <td>7.633333</td>\n",
       "      <td>30.0</td>\n",
       "      <td>210.0</td>\n",
       "    </tr>\n",
       "    <tr>\n",
       "      <th>relation</th>\n",
       "      <td>0.827621</td>\n",
       "      <td>4.375000</td>\n",
       "      <td>4.504717</td>\n",
       "      <td>32.0</td>\n",
       "      <td>212.0</td>\n",
       "    </tr>\n",
       "    <tr>\n",
       "      <th>stress</th>\n",
       "      <td>0.890293</td>\n",
       "      <td>15.255814</td>\n",
       "      <td>15.056604</td>\n",
       "      <td>43.0</td>\n",
       "      <td>212.0</td>\n",
       "    </tr>\n",
       "    <tr>\n",
       "      <th>tabak0h-ignore</th>\n",
       "      <td>0.919926</td>\n",
       "      <td>0.875000</td>\n",
       "      <td>0.868545</td>\n",
       "      <td>32.0</td>\n",
       "      <td>213.0</td>\n",
       "    </tr>\n",
       "    <tr>\n",
       "      <th>rcqcon</th>\n",
       "      <td>0.938969</td>\n",
       "      <td>17.124204</td>\n",
       "      <td>17.112172</td>\n",
       "      <td>314.0</td>\n",
       "      <td>419.0</td>\n",
       "    </tr>\n",
       "  </tbody>\n",
       "</table>\n",
       "</div>"
      ],
      "text/plain": [
       "                 p_value  average com  average dro  non nan com  non nan dro\n",
       "leeftijd        0.000001    47.648562    44.219634        313.0        601.0\n",
       "dag1            0.000244     5.338279     6.639553        337.0        627.0\n",
       "week            0.000254    32.327645    37.764599        293.0        548.0\n",
       "dag7            0.000439     4.625000     5.745628        344.0        629.0\n",
       "dag3            0.000711     5.023188     6.133545        345.0        629.0\n",
       "dag2            0.000879     4.873529     5.979233        340.0        626.0\n",
       "dsmmisbr        0.002640     1.298851     1.515674        348.0        638.0\n",
       "dag5            0.006116     5.112760     6.046178        337.0        628.0\n",
       "dag4            0.007038     5.140762     6.030255        341.0        628.0\n",
       "xtc0h-ignore    0.071998     0.062500     0.192488         32.0        213.0\n",
       "basaal          0.098934     3.312500     4.576923         32.0        208.0\n",
       "rcqact          0.131442    14.029703    13.637019        303.0        416.0\n",
       "coca0h-ignore   0.131775     0.093750     0.206573         32.0        213.0\n",
       "dag6            0.141807     5.214076     5.695860        341.0        628.0\n",
       "drugs0h-ignore  0.152197     0.000000     0.061033         32.0        213.0\n",
       "dsmafhank       0.170786     4.386819     4.532283        349.0        635.0\n",
       "gok0h-ignore    0.194172     0.031250     0.103286         32.0        213.0\n",
       "rcqpre          0.195386    12.274194    12.417266        310.0        417.0\n",
       "dsmfysio        0.196356     0.874608     0.945882        319.0        425.0\n",
       "kindthuis       0.196639     0.857143     1.141593         21.0        113.0\n",
       "ghb0h-ignore    0.212358     0.000000     0.046948         32.0        213.0\n",
       "eqth            0.218886    62.500000    58.179612         40.0        206.0\n",
       "canna0h-ignore  0.259339     0.312500     0.417840         32.0        213.0\n",
       "angst           0.283762     7.250000     8.359447         48.0        217.0\n",
       "speed0h-ignore  0.364114     0.093750     0.154930         32.0        213.0\n",
       "opiat0h-ignore  0.383269     0.000000     0.023474         32.0        213.0\n",
       "slaap0h-ignore  0.462088     0.250000     0.314554         32.0        213.0\n",
       "beperking       0.476347    13.281250    14.487437         32.0        199.0\n",
       "maphss          0.521752    12.687500    11.938389         32.0        211.0\n",
       "dasstot         0.543096    35.250000    37.384615         40.0        208.0\n",
       "klachttot       0.571656    20.300000    19.352941         30.0        204.0\n",
       "deprest         0.579217     2.600000     2.222222         10.0          9.0\n",
       "dsmernst        0.666339     5.406250     5.572770         32.0        213.0\n",
       "verlangtot      0.744475     7.833333     7.633333         30.0        210.0\n",
       "relation        0.827621     4.375000     4.504717         32.0        212.0\n",
       "stress          0.890293    15.255814    15.056604         43.0        212.0\n",
       "tabak0h-ignore  0.919926     0.875000     0.868545         32.0        213.0\n",
       "rcqcon          0.938969    17.124204    17.112172        314.0        419.0"
      ]
     },
     "execution_count": 26,
     "metadata": {},
     "output_type": "execute_result"
    }
   ],
   "source": [
    "p_values = run_anova_regression(dropout_table_numeric, completer_table_numeric)\n",
    "sort_p_values(p_values, numeric_answer_keys, dropout_table_numeric, completer_table_numeric)"
   ]
  },
  {
   "cell_type": "markdown",
   "metadata": {},
   "source": [
    "### 1.3 Experiment with text answer classes"
   ]
  },
  {
   "cell_type": "code",
   "execution_count": 27,
   "metadata": {},
   "outputs": [],
   "source": [
    "MINANSWERCOUNT = 10\n",
    "MAXPVALUE = 0.01\n",
    "ANSWER = \"answer\"\n",
    "COUNT = \"count\"\n",
    "\n",
    "def get_binary_answers(data):\n",
    "    answers_per_client = {}\n",
    "    for i in range(0,len(data)):\n",
    "        client_id = data.iloc[i][CLIENT]\n",
    "        if not client_id in answers_per_client:\n",
    "            answers_per_client[client_id] = []\n",
    "        answer_id = str(data.iloc[i][ANSWERID])\n",
    "        if re.search(NONQUESTIONS,answer_id): continue\n",
    "        answer_text = cleanup_answer_text(data.iloc[i][ANSWERTEXT])\n",
    "        answer_title = cleanup_answer_text(data.iloc[i][ANSWERTITLE])\n",
    "        if not pd.isna(answer_text): # and answer_text != \"removed\":\n",
    "            if pd.isna(answer_title): answer_title = \"\"\n",
    "            answers_per_client[client_id].append(answer_id+\"#\"+answer_title+\"#\"+answer_text)\n",
    "    return(answers_per_client)\n",
    "\n",
    "def count_answers(binary_answers):\n",
    "    answer_counts = {}\n",
    "    for client_id in binary_answers:\n",
    "        for answer in binary_answers[client_id]:\n",
    "            if answer in answer_counts:\n",
    "                answer_counts[answer] += 1\n",
    "            else:\n",
    "                answer_counts[answer] = 1\n",
    "    return({answer:answer_counts[answer] for answer in sorted(answer_counts.keys(),key=lambda a:answer_counts[a],reverse=True)})\n",
    "\n",
    "def make_binary_table(data, binary_answers, answer_counts):\n",
    "    binary_table = []\n",
    "    for client_id in data[CLIENT].unique():\n",
    "        binary_table.append([])\n",
    "        for answer in answer_counts:\n",
    "            if answer_counts[answer] >= MINANSWERCOUNT:\n",
    "                if answer in binary_answers[client_id]:\n",
    "                    binary_table[-1].append(1)\n",
    "                else:\n",
    "                    binary_table[-1].append(0)\n",
    "    answers_used = []\n",
    "    for answer in answer_counts:\n",
    "        if answer_counts[answer] >= MINANSWERCOUNT:\n",
    "            answers_used.append({ANSWER:answer, COUNT:answer_counts[answer]})\n",
    "    return(binary_table, answers_used)\n",
    "\n",
    "def convert_data_to_binary(dropout_data,completer_data):\n",
    "    all_data = pd.concat([dropout_data,completer_data])\n",
    "    binary_answers = get_binary_answers(all_data)\n",
    "    answer_counts = count_answers(binary_answers)\n",
    "    dropout_table_binary, answers_used = make_binary_table(dropout_data, binary_answers, answer_counts)\n",
    "    completer_table_binary, answers_used = make_binary_table(completer_data, binary_answers, answer_counts)\n",
    "    return(dropout_table_binary, completer_table_binary, answers_used, binary_answers)\n",
    "\n",
    "def select_p_values(p_values,column_names,dropout_table,completer_table):\n",
    "    return({column_names[i][ANSWER]:(p_values[i],column_average(completer_table,i),column_average(dropout_table,i)) \n",
    "            for i in sorted(range(0,len(p_values)),key=lambda i:p_values[i])\n",
    "            if column_average(completer_table,i) < column_average(dropout_table,i) and p_values[i] < MAXPVALUE})"
   ]
  },
  {
   "cell_type": "code",
   "execution_count": 28,
   "metadata": {},
   "outputs": [],
   "source": [
    "dropout_table_binary, completer_table_binary, answers_used, binary_answers = convert_data_to_binary(dropout_data,completer_data)"
   ]
  },
  {
   "cell_type": "code",
   "execution_count": 29,
   "metadata": {},
   "outputs": [
    {
     "data": {
      "text/plain": [
       "(1278, 1278, 1278)"
      ]
     },
     "execution_count": 29,
     "metadata": {},
     "output_type": "execute_result"
    }
   ],
   "source": [
    "len(dropout_table_binary[0]),len(completer_table_binary[0]),len(answers_used)"
   ]
  },
  {
   "cell_type": "code",
   "execution_count": 30,
   "metadata": {},
   "outputs": [],
   "source": [
    "p_values = run_anova_classify(dropout_table_binary,completer_table_binary)"
   ]
  },
  {
   "cell_type": "code",
   "execution_count": 31,
   "metadata": {},
   "outputs": [
    {
     "data": {
      "text/html": [
       "<div>\n",
       "<style scoped>\n",
       "    .dataframe tbody tr th:only-of-type {\n",
       "        vertical-align: middle;\n",
       "    }\n",
       "\n",
       "    .dataframe tbody tr th {\n",
       "        vertical-align: top;\n",
       "    }\n",
       "\n",
       "    .dataframe thead th {\n",
       "        text-align: right;\n",
       "    }\n",
       "</style>\n",
       "<table border=\"1\" class=\"dataframe\">\n",
       "  <thead>\n",
       "    <tr style=\"text-align: right;\">\n",
       "      <th></th>\n",
       "      <th>p_value</th>\n",
       "      <th>average com</th>\n",
       "      <th>average dro</th>\n",
       "      <th>non nan com</th>\n",
       "      <th>non nan dro</th>\n",
       "    </tr>\n",
       "  </thead>\n",
       "  <tbody>\n",
       "    <tr>\n",
       "      <th>opiat##nee</th>\n",
       "      <td>5.940102e-17</td>\n",
       "      <td>0.089136</td>\n",
       "      <td>0.319508</td>\n",
       "      <td>359.0</td>\n",
       "      <td>651.0</td>\n",
       "    </tr>\n",
       "    <tr>\n",
       "      <th>opiat0h-ignore##0</th>\n",
       "      <td>5.940102e-17</td>\n",
       "      <td>0.089136</td>\n",
       "      <td>0.319508</td>\n",
       "      <td>359.0</td>\n",
       "      <td>651.0</td>\n",
       "    </tr>\n",
       "    <tr>\n",
       "      <th>mateicn10#10.had je gebrek aan onderdak of had je problemen met huisvesting?#niet / geen</th>\n",
       "      <td>6.944730e-17</td>\n",
       "      <td>0.086351</td>\n",
       "      <td>0.314900</td>\n",
       "      <td>359.0</td>\n",
       "      <td>651.0</td>\n",
       "    </tr>\n",
       "    <tr>\n",
       "      <th>national##nederlands</th>\n",
       "      <td>8.719317e-17</td>\n",
       "      <td>0.089136</td>\n",
       "      <td>0.317972</td>\n",
       "      <td>359.0</td>\n",
       "      <td>651.0</td>\n",
       "    </tr>\n",
       "    <tr>\n",
       "      <th>gokken##nee</th>\n",
       "      <td>9.843858e-17</td>\n",
       "      <td>0.866295</td>\n",
       "      <td>0.622120</td>\n",
       "      <td>359.0</td>\n",
       "      <td>651.0</td>\n",
       "    </tr>\n",
       "    <tr>\n",
       "      <th>...</th>\n",
       "      <td>...</td>\n",
       "      <td>...</td>\n",
       "      <td>...</td>\n",
       "      <td>...</td>\n",
       "      <td>...</td>\n",
       "    </tr>\n",
       "    <tr>\n",
       "      <th>dass8#8.ik was erg opgefokt#een beetje of soms</th>\n",
       "      <td>9.830992e-03</td>\n",
       "      <td>0.094708</td>\n",
       "      <td>0.152074</td>\n",
       "      <td>359.0</td>\n",
       "      <td>651.0</td>\n",
       "    </tr>\n",
       "    <tr>\n",
       "      <th>mateicn7#7.had je moeite in je dagelijks levensonderhoud te voorzien, kwam je geld tekort?#vaak / ernstige</th>\n",
       "      <td>9.938702e-03</td>\n",
       "      <td>0.002786</td>\n",
       "      <td>0.024578</td>\n",
       "      <td>359.0</td>\n",
       "      <td>651.0</td>\n",
       "    </tr>\n",
       "    <tr>\n",
       "      <th>gewgebhv#1. gewoonlijk gebruik#5 standaardglazen per dag</th>\n",
       "      <td>9.938702e-03</td>\n",
       "      <td>0.002786</td>\n",
       "      <td>0.024578</td>\n",
       "      <td>359.0</td>\n",
       "      <td>651.0</td>\n",
       "    </tr>\n",
       "    <tr>\n",
       "      <th>tabakjr##40 jaren</th>\n",
       "      <td>9.938702e-03</td>\n",
       "      <td>0.002786</td>\n",
       "      <td>0.024578</td>\n",
       "      <td>359.0</td>\n",
       "      <td>651.0</td>\n",
       "    </tr>\n",
       "    <tr>\n",
       "      <th>ghqc7#c7.heb je de laatste tijd plezier kunnen beleven aan je gewone dagelijkse bezigheden?#evenveel als gewoonlijk</th>\n",
       "      <td>1.023283e-02</td>\n",
       "      <td>0.038997</td>\n",
       "      <td>0.013825</td>\n",
       "      <td>359.0</td>\n",
       "      <td>651.0</td>\n",
       "    </tr>\n",
       "  </tbody>\n",
       "</table>\n",
       "<p>432 rows × 5 columns</p>\n",
       "</div>"
      ],
      "text/plain": [
       "                                                         p_value  average com  \\\n",
       "opiat##nee                                          5.940102e-17     0.089136   \n",
       "opiat0h-ignore##0                                   5.940102e-17     0.089136   \n",
       "mateicn10#10.had je gebrek aan onderdak of had ...  6.944730e-17     0.086351   \n",
       "national##nederlands                                8.719317e-17     0.089136   \n",
       "gokken##nee                                         9.843858e-17     0.866295   \n",
       "...                                                          ...          ...   \n",
       "dass8#8.ik was erg opgefokt#een beetje of soms      9.830992e-03     0.094708   \n",
       "mateicn7#7.had je moeite in je dagelijks levens...  9.938702e-03     0.002786   \n",
       "gewgebhv#1. gewoonlijk gebruik#5 standaardglaze...  9.938702e-03     0.002786   \n",
       "tabakjr##40 jaren                                   9.938702e-03     0.002786   \n",
       "ghqc7#c7.heb je de laatste tijd plezier kunnen ...  1.023283e-02     0.038997   \n",
       "\n",
       "                                                    average dro  non nan com  \\\n",
       "opiat##nee                                             0.319508        359.0   \n",
       "opiat0h-ignore##0                                      0.319508        359.0   \n",
       "mateicn10#10.had je gebrek aan onderdak of had ...     0.314900        359.0   \n",
       "national##nederlands                                   0.317972        359.0   \n",
       "gokken##nee                                            0.622120        359.0   \n",
       "...                                                         ...          ...   \n",
       "dass8#8.ik was erg opgefokt#een beetje of soms         0.152074        359.0   \n",
       "mateicn7#7.had je moeite in je dagelijks levens...     0.024578        359.0   \n",
       "gewgebhv#1. gewoonlijk gebruik#5 standaardglaze...     0.024578        359.0   \n",
       "tabakjr##40 jaren                                      0.024578        359.0   \n",
       "ghqc7#c7.heb je de laatste tijd plezier kunnen ...     0.013825        359.0   \n",
       "\n",
       "                                                    non nan dro  \n",
       "opiat##nee                                                651.0  \n",
       "opiat0h-ignore##0                                         651.0  \n",
       "mateicn10#10.had je gebrek aan onderdak of had ...        651.0  \n",
       "national##nederlands                                      651.0  \n",
       "gokken##nee                                               651.0  \n",
       "...                                                         ...  \n",
       "dass8#8.ik was erg opgefokt#een beetje of soms            651.0  \n",
       "mateicn7#7.had je moeite in je dagelijks levens...        651.0  \n",
       "gewgebhv#1. gewoonlijk gebruik#5 standaardglaze...        651.0  \n",
       "tabakjr##40 jaren                                         651.0  \n",
       "ghqc7#c7.heb je de laatste tijd plezier kunnen ...        651.0  \n",
       "\n",
       "[432 rows x 5 columns]"
      ]
     },
     "execution_count": 31,
     "metadata": {},
     "output_type": "execute_result"
    }
   ],
   "source": [
    "answer_list = [ d[\"answer\"] for d in answers_used ]\n",
    "sort_p_values(p_values, answer_list, dropout_table_binary, completer_table_binary).iloc[:432,]"
   ]
  },
  {
   "cell_type": "code",
   "execution_count": 32,
   "metadata": {},
   "outputs": [
    {
     "name": "stdout",
     "output_type": "stream",
     "text": [
      "opiat 0 245 0\n",
      "opiat0h-ignore 0 0 0\n",
      "mateicn10 245 245 0\n",
      "national 0 245 0\n",
      "gokken 706 0 38\n",
      "mateicn13 0 245 0\n"
     ]
    }
   ],
   "source": [
    "def print_answer_ids_freqs(dropout_data,completer_data):\n",
    "    all_data = pd.concat([dropout_data,completer_data])\n",
    "    for answer_combi in [\"opiat##nee\",\"opiat0h-ignore##0\",\"mateicn10#10.had je gebrek aan onderdak of had je problemen met huisvesting?#niet / geen\",\n",
    "                         \"national##nederlands\",\"gokken##nee\",\n",
    "                         \"mateicn13#13.had je er moeite mee voor een veilige slaapplaats of voor beschermende kleding te zorgen?#niet / geen\"]:\n",
    "        answer = answer_combi.split(\"#\")[0]\n",
    "        print(answer,\n",
    "              len(all_data[all_data[ANSWERIDORIGINAL]==answer]),\n",
    "              len(all_data[all_data[ANSWERIDORIGINAL]==answer+\"0\"]),\n",
    "              len(all_data[all_data[ANSWERIDORIGINAL]==answer+\"t0\"]))\n",
    "        \n",
    "print_answer_ids_freqs(dropout_data,completer_data)"
   ]
  },
  {
   "cell_type": "code",
   "execution_count": 33,
   "metadata": {},
   "outputs": [
    {
     "name": "stdout",
     "output_type": "stream",
     "text": [
      "323\n"
     ]
    }
   ],
   "source": [
    "dropout_predictors = list(select_p_values(p_values,answers_used,dropout_table_binary,completer_table_binary).keys())\n",
    "print(len(dropout_predictors))"
   ]
  },
  {
   "cell_type": "code",
   "execution_count": 34,
   "metadata": {},
   "outputs": [],
   "source": [
    "def get_dropout_predictor_scores(data,dropout_predictors,binary_answers,questionnaire_types):\n",
    "    scores = []\n",
    "    for client_id in data[CLIENT].unique():\n",
    "        score = 0\n",
    "        for predictor in dropout_predictors:\n",
    "            if predictor in binary_answers[client_id]: \n",
    "                score += 1\n",
    "        scores.append((score,client_id,questionnaire_types[client_id]))\n",
    "    return(scores)\n",
    "\n",
    "def get_questionnaire_types(all_data):\n",
    "    questionnaire_types = {}\n",
    "    for i,row in all_data.iterrows():\n",
    "        client_id = row[CLIENT]\n",
    "        if not client_id in questionnaire_types: questionnaire_types[client_id] = 0\n",
    "        questionnaire_types[client_id] += 1\n",
    "    return(questionnaire_types)"
   ]
  },
  {
   "cell_type": "code",
   "execution_count": 35,
   "metadata": {},
   "outputs": [
    {
     "name": "stdout",
     "output_type": "stream",
     "text": [
      "[121, 121, 119, 117, 117, 117, 117, 116, 116, 116, 116, 116, 115, 115, 115, 115, 115, 115, 114, 114, 114, 113, 113, 113, 113, 113, 112, 112, 112, 112, 112, 111, 111, 111, 111, 111, 111, 111, 110, 110, 110, 110, 110, 110, 110, 110, 110, 110, 110, 110, 110, 109, 109, 109, 109, 109, 109, 109, 109, 109, 109, 109, 109, 109, 109, 109, 109, 109, 109, 109, 108, 108, 108, 108, 108, 108, 108, 108, 108, 108, 108, 108, 108, 108, 108, 108, 107, 107, 107, 107, 107, 107, 107, 107, 107, 107, 107, 107, 107, 106, 106, 106, 106, 106, 106, 106, 106, 106, 106, 106, 106, 106, 106, 106, 106, 106, 106, 106, 106, 106, 106, 106, 106, 105, 105, 105, 105, 105, 105, 105, 105, 105, 105, 105, 105, 105, 105, 105, 105, 105, 105, 105, 105, 105, 105, 105, 104, 104, 104, 104, 104, 104, 104, 104, 104, 104, 103, 103, 103, 103, 103, 103, 103, 103, 103, 103, 103, 102, 102, 102, 102, 102, 102, 102, 102, 101, 101, 101, 101, 100, 100, 100, 100, 100, 100, 100, 100, 100, 99, 99, 99, 99, 99, 99, 98, 98, 97, 97, 97, 96, 96, 96, 94, 93, 92, 92, 91, 91, 91, 90, 90, 89, 89, 24, 23, 23, 22, 22, 22, 21, 21, 20, 20, 19, 18, 18, 17, 5, 5, 5, 5, 5, 5, 5, 5, 5, 4, 4, 4, 4, 4, 4, 4, 4, 4, 4, 4, 4, 4, 4, 4, 4, 4, 4, 4, 4, 4, 4, 4, 4, 4, 4, 4, 4, 4, 4, 4, 4, 4, 4, 4, 3, 3, 3, 3, 3, 3, 3, 3, 3, 3, 3, 3, 3, 3, 3, 3, 3, 3, 3, 3, 3, 3, 3, 3, 3, 3, 3, 3, 3, 3, 3, 3, 3, 3, 3, 3, 3, 3, 3, 3, 3, 3, 3, 3, 3, 3, 3, 3, 3, 3, 3, 3, 3, 3, 3, 3, 3, 3, 3, 3, 3, 3, 3, 3, 3, 3, 3, 3, 3, 3, 3, 3, 3, 3, 3, 3, 3, 3, 3, 3, 3, 3, 3, 3, 3, 3, 3, 3, 3, 3, 3, 2, 2, 2, 2, 2, 2, 2, 2, 2, 2, 2, 2, 2, 2, 2, 2, 2, 2, 2, 2, 2, 2, 2, 2, 2, 2, 2, 2, 2, 2, 2, 2, 2, 2, 2, 2, 2, 2, 2, 2, 2, 2, 2, 2, 2, 2, 2, 2, 2, 2, 2, 2, 2, 2, 2, 2, 2, 2, 2, 2, 2, 2, 2, 2, 2, 2, 2, 2, 2, 2, 2, 2, 2, 2, 2, 2, 2, 2, 2, 2, 2, 2, 2, 2, 2, 2, 2, 2, 2, 2, 2, 2, 2, 2, 2, 2, 2, 2, 2, 2, 2, 2, 2, 2, 2, 2, 2, 2, 2, 2, 2, 2, 2, 2, 2, 2, 2, 2, 2, 2, 2, 2, 2, 2, 2, 2, 2, 2, 2, 2, 2, 2, 2, 2, 2, 2, 1, 1, 1, 1, 1, 1, 1, 1, 1, 1, 1, 1, 1, 1, 1, 1, 1, 1, 1, 1, 1, 1, 1, 1, 1, 1, 1, 1, 1, 1, 1, 1, 1, 1, 1, 1, 1, 1, 1, 1, 1, 1, 1, 1, 1, 1, 1, 1, 1, 1, 1, 1, 1, 1, 1, 1, 1, 1, 1, 1, 1, 1, 1, 1, 1, 1, 1, 1, 1, 1, 1, 1, 1, 1, 1, 1, 1, 1, 1, 1, 1, 1, 1, 1, 1, 1, 1, 1, 1, 1, 1, 1, 1, 1, 1, 1, 1, 1, 1, 1, 1, 1, 1, 1, 1, 1, 0, 0, 0, 0, 0, 0, 0, 0, 0, 0, 0, 0, 0, 0, 0, 0, 0, 0, 0, 0, 0, 0, 0, 0, 0, 0, 0, 0, 0, 0, 0, 0, 0, 0, 0, 0, 0, 0, 0, 0, 0, 0, 0, 0, 0, 0, 0]\n",
      "[113, 108, 107, 106, 105, 104, 103, 103, 102, 102, 101, 101, 101, 101, 100, 100, 100, 100, 100, 99, 98, 98, 98, 98, 98, 98, 97, 97, 96, 96, 93, 89, 25, 25, 24, 24, 24, 23, 23, 23, 22, 22, 21, 21, 21, 20, 20, 19, 19, 19, 19, 19, 19, 18, 17, 15, 5, 5, 5, 4, 4, 4, 4, 4, 4, 4, 4, 4, 4, 4, 4, 4, 4, 4, 4, 4, 3, 3, 3, 3, 3, 3, 3, 3, 3, 3, 3, 3, 3, 3, 3, 3, 3, 3, 3, 3, 3, 3, 3, 3, 3, 3, 3, 3, 3, 3, 3, 3, 3, 3, 3, 3, 3, 3, 3, 2, 2, 2, 2, 2, 2, 2, 2, 2, 2, 2, 2, 2, 2, 2, 2, 2, 2, 2, 2, 2, 2, 2, 2, 2, 2, 2, 2, 2, 2, 2, 2, 2, 2, 2, 2, 2, 2, 2, 2, 2, 2, 2, 2, 2, 2, 2, 2, 2, 2, 2, 2, 2, 2, 2, 2, 2, 2, 2, 2, 2, 2, 2, 2, 2, 2, 2, 2, 2, 2, 2, 2, 2, 2, 2, 2, 2, 2, 2, 2, 2, 1, 1, 1, 1, 1, 1, 1, 1, 1, 1, 1, 1, 1, 1, 1, 1, 1, 1, 1, 1, 1, 1, 1, 1, 1, 1, 1, 1, 1, 1, 1, 1, 1, 1, 1, 1, 1, 1, 1, 1, 1, 1, 1, 1, 1, 1, 1, 1, 1, 1, 1, 1, 1, 1, 1, 1, 1, 1, 1, 1, 1, 1, 1, 1, 1, 1, 1, 1, 1, 1, 1, 1, 1, 1, 1, 1, 1, 1, 1, 1, 1, 1, 1, 1, 1, 1, 1, 1, 1, 1, 1, 1, 1, 1, 1, 1, 1, 1, 1, 1, 1, 0, 0, 0, 0, 0, 0, 0, 0, 0, 0, 0, 0, 0, 0, 0, 0, 0, 0, 0, 0, 0, 0, 0, 0, 0, 0, 0, 0, 0, 0, 0, 0, 0, 0, 0, 0, 0, 0, 0, 0, 0, 0, 0, 0, 0, 0, 0, 0, 0, 0, 0, 0, 0, 0, 0, 0, 0, 0, 0, 0, 0, 0]\n"
     ]
    }
   ],
   "source": [
    "questionnaire_types = get_questionnaire_types(all_data)\n",
    "dropout_predictor_scores_dropout = get_dropout_predictor_scores(dropout_data,dropout_predictors,binary_answers,questionnaire_types)\n",
    "dropout_predictor_scores_completer = get_dropout_predictor_scores(completer_data,dropout_predictors,binary_answers,questionnaire_types)\n",
    "print([score_tuple[0] for score_tuple in sorted(dropout_predictor_scores_dropout,key=lambda s:s[0],reverse=True)])\n",
    "print([score_tuple[0] for score_tuple in sorted(dropout_predictor_scores_completer,key=lambda s:s[0],reverse=True)])"
   ]
  },
  {
   "cell_type": "code",
   "execution_count": 36,
   "metadata": {},
   "outputs": [
    {
     "name": "stdout",
     "output_type": "stream",
     "text": [
      "[(121, 'AdB0469', 259), (121, 'AdB0669', 259), (119, 'AdB0229', 259), (117, 'AdB0255', 259), (117, 'AdB1115', 259), (117, 'AdB1342', 259), (117, 'AdB1784', 259), (116, 'AdB1082', 259), (116, 'AdB1087', 259), (116, 'AdB1221', 259), (116, 'AdB1434', 259), (116, 'AdB1701', 259), (115, 'AdB0088', 259), (115, 'AdB0279', 259), (115, 'AdB0662', 259), (115, 'AdB1032', 259), (115, 'AdB1204', 259), (115, 'AdB1785', 259), (114, 'AdB0874', 259), (114, 'AdB1128', 259), (114, 'AdB1265', 259), (113, 'AdB0067', 259), (113, 'AdB0700', 259), (113, 'AdB1454', 259), (113, 'AdB1537', 259), (113, 'AdB1831', 259), (112, 'AdB0274', 259), (112, 'AdB0371', 259), (112, 'AdB0405', 259), (112, 'AdB1147', 259), (112, 'AdB1911', 259), (111, 'AdB0069', 259), (111, 'AdB0097', 259), (111, 'AdB0259', 259), (111, 'AdB0860', 259), (111, 'AdB0907', 259), (111, 'AdB1303', 259), (111, 'AdB1884', 259), (110, 'AdB0258', 259), (110, 'AdB0286', 259), (110, 'AdB0541', 259), (110, 'AdB0725', 259), (110, 'AdB0957', 259), (110, 'AdB0974', 259), (110, 'AdB1046', 259), (110, 'AdB1357', 259), (110, 'AdB1392', 259), (110, 'AdB1600', 259), (110, 'AdB1694', 259), (110, 'AdB1699', 259), (110, 'AdB1927', 259), (109, 'AdB0510', 259), (109, 'AdB0796', 259), (109, 'AdB0892', 259), (109, 'AdB0904', 259), (109, 'AdB0979', 259), (109, 'AdB1074', 259), (109, 'AdB1132', 259), (109, 'AdB1140', 259), (109, 'AdB1172', 259), (109, 'AdB1235', 259), (109, 'AdB1249', 259), (109, 'AdB1331', 259), (109, 'AdB1333', 259), (109, 'AdB1407', 259), (109, 'AdB1577', 259), (109, 'AdB1583', 259), (109, 'AdB1662', 259), (109, 'AdB1667', 259), (109, 'AdB1856', 259), (108, 'AdB0041', 259), (108, 'AdB0099', 259), (108, 'AdB0207', 259), (108, 'AdB0526', 259), (108, 'AdB0764', 259), (108, 'AdB0999', 259), (108, 'AdB1097', 259), (108, 'AdB1178', 259), (108, 'AdB1190', 259), (108, 'AdB1264', 259), (108, 'AdB1501', 259), (108, 'AdB1575', 259), (108, 'AdB1786', 259), (108, 'AdB1805', 259), (108, 'AdB1817', 259), (108, 'AdB1823', 259), (107, 'AdB0194', 259), (107, 'AdB0458', 259), (107, 'AdB0498', 259), (107, 'AdB0729', 259), (107, 'AdB0756', 259), (107, 'AdB0889', 259), (107, 'AdB0896', 259), (107, 'AdB0990', 259), (107, 'AdB1313', 259), (107, 'AdB1380', 259), (107, 'AdB1566', 259), (107, 'AdB1642', 259), (107, 'AdB1792', 259), (106, 'AdB0074', 259), (106, 'AdB0075', 259), (106, 'AdB0224', 259), (106, 'AdB0243', 259), (106, 'AdB0379', 259)]\n",
      "[(113, 'AdB1899', 259), (108, 'AdB0484', 259), (107, 'AdB1739', 259), (106, 'AdB0515', 259), (105, 'AdB0181', 259)]\n"
     ]
    }
   ],
   "source": [
    "print([score_tuple for score_tuple in sorted(dropout_predictor_scores_dropout,key=lambda s:s[0],reverse=True)][:104])\n",
    "print([score_tuple for score_tuple in sorted(dropout_predictor_scores_completer,key=lambda s:s[0],reverse=True)][:5])"
   ]
  },
  {
   "cell_type": "code",
   "execution_count": 37,
   "metadata": {},
   "outputs": [
    {
     "name": "stdout",
     "output_type": "stream",
     "text": [
      "selected 104: 3 completed: 0.9711538461538461\n",
      "selected 245: 32 completed: 0.8693877551020408\n"
     ]
    }
   ],
   "source": [
    "print(f\"selected 104: 3 completed: {(104-3)/104}\")\n",
    "print(f\"selected 245: 32 completed: {(245-32)/245}\")"
   ]
  },
  {
   "cell_type": "code",
   "execution_count": 38,
   "metadata": {},
   "outputs": [
    {
     "data": {
      "text/plain": [
       "{27: 21, 140: 706, 236: 38, 259: 245}"
      ]
     },
     "execution_count": 38,
     "metadata": {},
     "output_type": "execute_result"
    }
   ],
   "source": [
    "groups = pd.DataFrame.from_dict(questionnaire_types,orient=\"index\").groupby(0).groups\n",
    "{g:len(groups[g]) for g in groups}"
   ]
  },
  {
   "cell_type": "markdown",
   "metadata": {},
   "source": [
    "## Visualization"
   ]
  },
  {
   "cell_type": "code",
   "execution_count": 40,
   "metadata": {},
   "outputs": [],
   "source": [
    "def print_shape(table):\n",
    "    print(len(table),len(table[0]))"
   ]
  },
  {
   "cell_type": "code",
   "execution_count": 41,
   "metadata": {},
   "outputs": [],
   "source": [
    "def select_columns(dropout_table,completer_table,p_values):\n",
    "    column_average_dropout = []\n",
    "    column_average_completer = []\n",
    "    for i in range(0,len(p_values)):\n",
    "        column_average_dropout.append(column_average(dropout_table,i))\n",
    "        column_average_completer.append(column_average(completer_table,i))\n",
    "    table_in = dropout_table+completer_table\n",
    "    table_out = []\n",
    "    for row_in in table_in:\n",
    "        row_out = [row_in[i] for i in range(0,len(row_in)) \n",
    "                   if p_values[i] < MAXPVALUE and\n",
    "                   column_average_completer[i] < column_average_dropout[i]]\n",
    "        table_out.append(row_out)\n",
    "    return(table_out)"
   ]
  },
  {
   "cell_type": "code",
   "execution_count": 42,
   "metadata": {},
   "outputs": [],
   "source": [
    "table_dropout_selectors = select_columns(dropout_table_binary,completer_table_binary,p_values)\n",
    "table_dropout_selectors_dropout = table_dropout_selectors[:len(dropout_table_binary)]\n",
    "table_dropout_selectors_completer = table_dropout_selectors[len(dropout_table_binary):]"
   ]
  },
  {
   "cell_type": "code",
   "execution_count": 43,
   "metadata": {},
   "outputs": [],
   "source": [
    "all_data_array = np.array(dropout_table_binary+completer_table_binary)\n",
    "all_data_coordinates = TSNE(n_components=2).fit_transform(all_data_array)\n",
    "dropout_coordinates = all_data_coordinates[:len(dropout_table_binary)]\n",
    "completer_coordinates = all_data_coordinates[len(dropout_table_binary):]"
   ]
  },
  {
   "cell_type": "code",
   "execution_count": 44,
   "metadata": {},
   "outputs": [
    {
     "name": "stdout",
     "output_type": "stream",
     "text": [
      "1010 2\n",
      "359 2\n",
      "651 2\n"
     ]
    }
   ],
   "source": [
    "print_shape(all_data_coordinates)\n",
    "print_shape(completer_coordinates)\n",
    "print_shape(dropout_coordinates)"
   ]
  },
  {
   "cell_type": "code",
   "execution_count": 48,
   "metadata": {},
   "outputs": [
    {
     "data": {
      "image/png": "[encoded data removed]",
      "text/plain": [
       "<Figure size 864x288 with 2 Axes>"
      ]
     },
     "metadata": {},
     "output_type": "display_data"
    }
   ],
   "source": [
    "fig,(ax1,ax2) = plt.subplots(1,2,figsize=(12,4))\n",
    "x = [completer_coordinates[i][0] for i in range(0,len(completer_coordinates))]\n",
    "y = [completer_coordinates[i][1] for i in range(0,len(completer_coordinates))]\n",
    "ax1.scatter(x,y,s=10,label=\"completer\")\n",
    "x = [dropout_coordinates[i][0] for i in range(0,len(dropout_coordinates))]\n",
    "y = [dropout_coordinates[i][1] for i in range(0,len(dropout_coordinates))]\n",
    "ax1.scatter(x,y,s=10,label=\"dropout\")\n",
    "ax1.legend(framealpha=0.5)\n",
    "ax1.title.set_text(\"completers vs dropouts: no clear distinction\")\n",
    "\n",
    "ax1.set_xticks([])\n",
    "ax1.set_yticks([])\n",
    "ax2.set_xticks([])\n",
    "ax2.set_yticks([])\n",
    "questionnaire_types_list = list(questionnaire_types.values())\n",
    "for questionnaire_type in set(questionnaire_types.values()):\n",
    "    x = [all_data_coordinates[i][0] for i in range(0,len(all_data_coordinates)) if questionnaire_types_list[i] == questionnaire_type] \n",
    "    y = [all_data_coordinates[i][1] for i in range(0,len(all_data_coordinates)) if questionnaire_types_list[i] == questionnaire_type]\n",
    "    ax2.scatter(x,y,s=10,label=questionnaire_type)\n",
    "ax2.legend(framealpha=0.5)\n",
    "ax2.title.set_text(\"the four different intake forms: clearly identified\")\n",
    "plt.show()"
   ]
  },
  {
   "cell_type": "markdown",
   "metadata": {},
   "source": [
    "## Dropout in relation to text"
   ]
  },
  {
   "cell_type": "code",
   "execution_count": 21,
   "metadata": {},
   "outputs": [],
   "source": [
    "MAILFILE = \"emails.csv.gz\"\n",
    "\n",
    "email_data = pd.read_csv(DATADIR+MAILFILE)"
   ]
  },
  {
   "cell_type": "code",
   "execution_count": 87,
   "metadata": {},
   "outputs": [],
   "source": [
    "def get_longest_mail_per_client(email_data, max_id=None, min_length=None):\n",
    "    longest_mail_per_client = {}\n",
    "    current_client = \"\"\n",
    "    for i in range(0, len(email_data)):\n",
    "        if email_data.iloc[i][\"Sender\"] == \"CLIENT\":\n",
    "            client = email_data.iloc[i][\"client\"]\n",
    "            mail_body = str(email_data.iloc[i][\"Body\"])\n",
    "            if client == current_client:\n",
    "                mail_id += 1\n",
    "            else:\n",
    "                if client < current_client:\n",
    "                    print(\"unexpected client order: {current_client} {client}\")\n",
    "                mail_id = 1\n",
    "                current_client = client\n",
    "            if max_id == None or mail_id <= max_id:\n",
    "                if min_length == None or len(mail_body) >= min_length:\n",
    "                    if not client in longest_mail_per_client or len(longest_mail_per_client[client][\"mail_body\"]) < len(mail_body):\n",
    "                        longest_mail_per_client[client] = {\"mail_body\": mail_body, \"mail_id\": mail_id }\n",
    "    return(longest_mail_per_client)"
   ]
  },
  {
   "cell_type": "code",
   "execution_count": 31,
   "metadata": {},
   "outputs": [],
   "source": [
    "longest_mail_per_client = get_longest_mail_per_client(email_data)"
   ]
  },
  {
   "cell_type": "code",
   "execution_count": 68,
   "metadata": {},
   "outputs": [],
   "source": [
    "def count_index_longest_mails(longest_mail_per_client):\n",
    "    counts = Counter([longest_mail_per_client[client][\"mail_id\"] for client in longest_mail_per_client])\n",
    "    counts = { x:counts[x] for x in sorted(counts.keys()) }\n",
    "    return(counts)\n",
    "\n",
    "def count_mails_with_certain_lengths(longest_mail_per_client, max_id):\n",
    "    lengths = Counter([len(longest_mails[client][\"mail_body\"]) for client in longest_mails if longest_mails[client][\"mail_id\"] <= max_id])\n",
    "    lengths1000 = {}\n",
    "    for length in lengths:\n",
    "        length1000 = int(length/1000)\n",
    "        if length1000 in lengths1000:\n",
    "            lengths1000[length1000] += lengths[length]\n",
    "        else:\n",
    "            lengths1000[length1000] = lengths[length]\n",
    "    return(lengths1000)"
   ]
  },
  {
   "cell_type": "code",
   "execution_count": 91,
   "metadata": {},
   "outputs": [
    {
     "data": {
      "image/png": "[encoded data removed]",
      "text/plain": [
       "<Figure size 864x288 with 2 Axes>"
      ]
     },
     "metadata": {
      "needs_background": "light"
     },
     "output_type": "display_data"
    },
    {
     "name": "stdout",
     "output_type": "stream",
     "text": [
      "number of mails with 1000-1999 characters: 136\n"
     ]
    }
   ],
   "source": [
    "plt.figure(figsize=(12,4))\n",
    "\n",
    "counts = count_index_longest_mails(longest_mail_per_client)\n",
    "plt.subplot(121)\n",
    "plt.plot(counts.keys(), counts.values())\n",
    "plt.title(\"index of longest mail\")\n",
    "\n",
    "max_id = 5\n",
    "lengths1000 = count_mails_with_certain_lengths(longest_mail_per_client, max_id)\n",
    "plt.subplot(122)\n",
    "plt.bar(lengths1000.keys(), lengths1000.values())\n",
    "plt.title(f\"longest mails with a certain number of characters (*1000), before mail id {max_id+1}\")\n",
    "\n",
    "plt.show()\n",
    "\n",
    "print(\"number of mails with 1000-1999 characters:\", lengths1000[1])"
   ]
  },
  {
   "cell_type": "code",
   "execution_count": 88,
   "metadata": {},
   "outputs": [],
   "source": [
    "selected_mails = get_longest_mail_per_client(email_data, max_id=5, min_length=1000)"
   ]
  },
  {
   "cell_type": "code",
   "execution_count": 89,
   "metadata": {},
   "outputs": [
    {
     "data": {
      "text/plain": [
       "749"
      ]
     },
     "execution_count": 89,
     "metadata": {},
     "output_type": "execute_result"
    }
   ],
   "source": [
    "len(selected_mails)"
   ]
  },
  {
   "cell_type": "code",
   "execution_count": 176,
   "metadata": {},
   "outputs": [],
   "source": [
    "def compute_token_frequencies(text_list):\n",
    "    token_frequencies = {}\n",
    "    token_in_text_counts = {}\n",
    "    for text in text_list:\n",
    "        for token in text.lower().split():\n",
    "            if token in token_frequencies:\n",
    "                token_frequencies[token] += 1\n",
    "            else:\n",
    "                token_frequencies[token] = 1\n",
    "        for token in set(text.lower().split()):\n",
    "            if token in token_in_text_counts:\n",
    "                token_in_text_counts[token] += 1\n",
    "            else:\n",
    "                token_in_text_counts[token] = 1\n",
    "    token_frequencies = { token: token_frequencies[token] for token in sorted(token_frequencies.keys(), key=lambda token: token_frequencies[token], reverse=True) }\n",
    "    return(token_frequencies, token_in_text_counts)"
   ]
  },
  {
   "cell_type": "code",
   "execution_count": 177,
   "metadata": {},
   "outputs": [],
   "source": [
    "token_frequencies, token_in_text_counts = compute_token_frequencies([selected_mails[client]['mail_body'] for client in selected_mails.keys()])"
   ]
  },
  {
   "cell_type": "code",
   "execution_count": 180,
   "metadata": {},
   "outputs": [],
   "source": [
    "def select_tokens(min_frequency, token_in_text_counts, nbr_of_selected_mails):\n",
    "    selected_tokens = {}\n",
    "    counter = 0\n",
    "    for token in token_frequencies:\n",
    "        if token_in_text_counts[token] < nbr_of_selected_mails:\n",
    "            if token_frequencies[token] >= MIN_FREQUENCY:\n",
    "                selected_tokens[token] = counter\n",
    "                counter += 1\n",
    "            else:\n",
    "                break\n",
    "    return(selected_tokens)"
   ]
  },
  {
   "cell_type": "code",
   "execution_count": 181,
   "metadata": {},
   "outputs": [],
   "source": [
    "selected_tokens = select_tokens(200, token_in_text_counts, len(selected_mails))"
   ]
  },
  {
   "cell_type": "code",
   "execution_count": 193,
   "metadata": {},
   "outputs": [],
   "source": [
    "def make_data_from_ids(selected_mails, selected_tokens, ids):\n",
    "    data = []\n",
    "    frequencies = len(selected_tokens)*[0]\n",
    "    for client in ids:\n",
    "        if client in selected_mails:\n",
    "            token_list = len(selected_tokens)*[0]\n",
    "            for token in selected_mails[client][\"mail_body\"].lower().split():\n",
    "                if token in selected_tokens:\n",
    "                    token_list[selected_tokens[token]] = 1\n",
    "            data.append(token_list)\n",
    "            for token in set(selected_mails[client][\"mail_body\"].lower().split()):\n",
    "                if token in selected_tokens:\n",
    "                    frequencies[selected_tokens[token]] += 1\n",
    "    frequencies = [ x/len(ids) for x in frequencies ]\n",
    "    return(data, frequencies)"
   ]
  },
  {
   "cell_type": "code",
   "execution_count": 194,
   "metadata": {},
   "outputs": [],
   "source": [
    "dropout_data, dropout_frequencies = make_data_from_ids(selected_mails, selected_tokens, dropout_ids)\n",
    "completer_data, completer_frequencies = make_data_from_ids(selected_mails, selected_tokens, completer_ids)"
   ]
  },
  {
   "cell_type": "code",
   "execution_count": 195,
   "metadata": {},
   "outputs": [],
   "source": [
    "results = run_anova_classify(dropout_data, completer_data)"
   ]
  },
  {
   "cell_type": "code",
   "execution_count": 196,
   "metadata": {},
   "outputs": [],
   "source": [
    "results_per_token = { token: [ results[selected_tokens[token]], dropout_frequencies[selected_tokens[token]], completer_frequencies[selected_tokens[token]] ]\n",
    "                             for token in sorted(selected_tokens.keys(), key=lambda token: results[selected_tokens[token]]) \n",
    "                                                             if results[selected_tokens[token]] <= 0.01 }"
   ]
  },
  {
   "cell_type": "code",
   "execution_count": 197,
   "metadata": {},
   "outputs": [
    {
     "data": {
      "text/plain": [
       "{'tot': [2.805084263866283e-06, 0.31852986217457885, 0.6629526462395543],\n",
       " 'jaren': [6.519174348743807e-06, 0.19142419601837674, 0.4568245125348189],\n",
       " 'paar': [1.0899615542438701e-05, 0.18223583460949463, 0.4373259052924791],\n",
       " 'familie': [4.156512086601435e-05, 0.225114854517611, 0.4986072423398329],\n",
       " 'zeggen': [4.3769705148135975e-05, 0.1225114854517611, 0.3203342618384401],\n",
       " '(': [7.408060105884557e-05, 0.4058192955589586, 0.7632311977715878],\n",
       " 'hem': [8.86903227611265e-05, 0.14548238897396631, 0.3565459610027855],\n",
       " 'we': [0.00011152783054239525, 0.29555895865237364, 0.6016713091922006],\n",
       " 'goede': [0.00018398804031828842, 0.1776416539050536, 0.40668523676880225],\n",
       " 'moeder': [0.00020963705074634152, 0.16539050535987748, 0.38440111420612816],\n",
       " 'uur': [0.0002483799383021169, 0.17917304747320062, 0.40668523676880225],\n",
       " 'vooral': [0.00025058087153783656, 0.1332312404287902, 0.32590529247910865],\n",
       " 'contact': [0.00029998601189485324, 0.2082695252679939, 0.45403899721448465],\n",
       " 'zeker': [0.0003328150455769265, 0.20214395099540583, 0.4428969359331476],\n",
       " 'zoon': [0.0003406846756561689, 0.06584992343032159, 0.19498607242339833],\n",
       " 'grote': [0.0003490037357909621, 0.12557427258805512, 0.30919220055710306],\n",
       " 'dronk': [0.0003755950788456742, 0.21286370597243492, 0.4596100278551532],\n",
       " 'mee': [0.00038571933495636974, 0.3568147013782542, 0.6824512534818942],\n",
       " 'hij': [0.00039959197314013263, 0.25267993874425726, 0.5236768802228412],\n",
       " 'ging': [0.000521582579559794, 0.2113323124042879, 0.45403899721448465],\n",
       " 'graag': [0.0005582295689523038, 0.26339969372128635, 0.5376044568245125],\n",
       " '-': [0.0006841863457483124, 0.08116385911179173, 0.2200557103064067],\n",
       " 'vrienden': [0.0007947162724049772, 0.2725880551301684, 0.5487465181058496],\n",
       " 'soms': [0.0007980082542734621, 0.2833078101071976, 0.5654596100278552],\n",
       " 'nu': [0.0008813777734309098, 0.4609494640122512, 0.8189415041782729],\n",
       " 'gaan': [0.001162827796884737, 0.4104134762633997, 0.7493036211699164],\n",
       " 'kreeg': [0.001221500855703068, 0.11332312404287902, 0.2757660167130919],\n",
       " ')': [0.0013090133074649356, 0.450229709035222, 0.8022284122562674],\n",
       " 'heel': [0.001309362966194212, 0.3660030627871363, 0.6852367688022284],\n",
       " 'nog': [0.0014280397364849122, 0.4900459418070444, 0.8523676880222841],\n",
       " 'moeite': [0.0016525303047115732, 0.11179173047473201, 0.27019498607242337],\n",
       " 'drinken': [0.0016525833125029515, 0.45788667687595713, 0.8105849582172702],\n",
       " 'tijd': [0.0016640566026924254, 0.37519142419601836, 0.6963788300835655],\n",
       " 'veel': [0.001929040487571806, 0.5053598774885145, 0.8690807799442897],\n",
       " 'weet': [0.002118193364217987, 0.3614088820826952, 0.6740947075208914],\n",
       " 'vraag': [0.0021207115799524332, 0.1362940275650842, 0.31197771587743733],\n",
       " 'later': [0.002183958479718281, 0.10260336906584992, 0.25069637883008355],\n",
       " 'leven': [0.0021986585022972078, 0.20980091883614088, 0.4373259052924791],\n",
       " 'pas': [0.0022191191910347773, 0.10872894333843798, 0.2618384401114206],\n",
       " 'zo': [0.0024928360586261933, 0.41500765696784075, 0.7493036211699164],\n",
       " 'regelmatig': [0.002493433331942542, 0.1546707503828484, 0.3426183844011142],\n",
       " 'weer': [0.0026860274634893156, 0.41347626339969373, 0.7465181058495822],\n",
       " 'eigen': [0.002742186249426805, 0.14088820826952528, 0.31754874651810583],\n",
       " 'als': [0.0029957187335562414, 0.5145482388973966, 0.8774373259052924],\n",
       " 'minder': [0.0034469295744209505, 0.29096477794793263, 0.5626740947075209],\n",
       " 'je': [0.0035922365069500483, 0.445635528330781, 0.7883008356545961],\n",
       " 'aantal': [0.0036394852459828444, 0.13935681470137826, 0.31197771587743733],\n",
       " 'lezen': [0.0037835154740216994, 0.13169984686064318, 0.298050139275766],\n",
       " 'daar': [0.003921518728109403, 0.3981623277182236, 0.7214484679665738],\n",
       " 'begin': [0.003936581034890818, 0.11944869831546708, 0.2757660167130919],\n",
       " 'tegen': [0.004102097314450031, 0.15926493108728942, 0.34540389972144847],\n",
       " 'num': [0.004552357166596458, 0.5742725880551302, 0.935933147632312],\n",
       " 'alleen': [0.004608994294654495, 0.3552833078101072, 0.6573816155988857],\n",
       " 'voelde': [0.005122135574764425, 0.09341500765696784, 0.22562674094707522],\n",
       " 'jaar': [0.005127900005609109, 0.4686064318529862, 0.8161559888579387],\n",
       " 'toen': [0.005175759687687073, 0.3430321592649311, 0.637883008356546],\n",
       " 'zitten': [0.005198718829367741, 0.09800918836140889, 0.233983286908078],\n",
       " 'krijgen': [0.005217375264292401, 0.0995405819295559, 0.23676880222841226],\n",
       " 'ze': [0.005672200562134395, 0.3215926493108729, 0.6044568245125348],\n",
       " 'samen': [0.005877744736602411, 0.17457886676875958, 0.36768802228412256],\n",
       " 'wijn': [0.006046547766456216, 0.19295558958652373, 0.3983286908077994],\n",
       " 'erg': [0.006196258404625694, 0.327718223583461, 0.6128133704735376],\n",
       " 'helemaal': [0.006288227570421083, 0.18989280245022971, 0.39275766016713093],\n",
       " 'hoe': [0.006537370881821621, 0.20520673813169985, 0.4178272980501393],\n",
       " 'nooit': [0.006557401406923291, 0.26186830015313933, 0.5097493036211699],\n",
       " 'verder': [0.006595717891657889, 0.29555895865237364, 0.5626740947075209],\n",
       " 'vond': [0.006600301170536892, 0.12710566615620214, 0.2841225626740947],\n",
       " 'zien': [0.006754278630033147, 0.12098009188361408, 0.27298050139275765],\n",
       " 'drinkt': [0.006936126917744052, 0.10566615620214395, 0.24512534818941503],\n",
       " 'komen': [0.007110140424413146, 0.21592649310872894, 0.43454038997214484],\n",
       " 'meestal': [0.007221605573572479, 0.15313935681470137, 0.3286908077994429],\n",
       " 'heeft': [0.007419079319864223, 0.3889739663093415, 0.7019498607242339],\n",
       " 'zich': [0.007664805936916434, 0.14548238897396631, 0.3147632311977716],\n",
       " 'laatste': [0.007817908212046936, 0.25267993874425726, 0.49303621169916434],\n",
       " 'wil': [0.007914339970627017, 0.3460949464012251, 0.637883008356546],\n",
       " 'thuis': [0.008041412500392474, 0.25114854517611024, 0.49025069637883006],\n",
       " 'tijdens': [0.008221965777115094, 0.13476263399693722, 0.29526462395543174],\n",
       " 'naar': [0.008328920037924334, 0.42879019908116384, 0.7576601671309192],\n",
       " 'glazen': [0.008400758124161809, 0.1638591117917305, 0.34540389972144847],\n",
       " 'daarna': [0.009013184391474563, 0.1562021439509954, 0.33147632311977715],\n",
       " ';': [0.009056982402496524, 0.10872894333843798, 0.2479108635097493],\n",
       " 'gedronken': [0.009612620430615173, 0.2894333843797856, 0.5487465181058496],\n",
       " 'vader': [0.009717736456005798, 0.14701378254211334, 0.3147632311977716],\n",
       " 'mensen': [0.009899123228668252, 0.17151607963246554, 0.3565459610027855]}"
      ]
     },
     "execution_count": 197,
     "metadata": {},
     "output_type": "execute_result"
    }
   ],
   "source": [
    "results_per_token"
   ]
  },
  {
   "cell_type": "code",
   "execution_count": null,
   "metadata": {},
   "outputs": [],
   "source": []
  }
 ],
 "metadata": {
  "kernelspec": {
   "display_name": "Python 3",
   "language": "python",
   "name": "python3"
  },
  "language_info": {
   "codemirror_mode": {
    "name": "ipython",
    "version": 3
   },
   "file_extension": ".py",
   "mimetype": "text/x-python",
   "name": "python",
   "nbconvert_exporter": "python",
   "pygments_lexer": "ipython3",
   "version": "3.6.11"
  }
 },
 "nbformat": 4,
 "nbformat_minor": 4
}
